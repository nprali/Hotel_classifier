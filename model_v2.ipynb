{
 "cells": [
  {
   "cell_type": "code",
   "execution_count": 1,
   "metadata": {},
   "outputs": [
    {
     "name": "stdout",
     "output_type": "stream",
     "text": [
      "[nltk_data] Downloading package stopwords to\n",
      "[nltk_data]     C:\\Users\\Lenovo\\AppData\\Roaming\\nltk_data...\n",
      "[nltk_data]   Package stopwords is already up-to-date!\n"
     ]
    }
   ],
   "source": [
    "import pandas as pd\n",
    "import numpy as np\n",
    "import nltk, re\n",
    "nltk.download('stopwords') # load english stopwords\n",
    "from nltk.corpus import stopwords\n",
    "from sklearn.model_selection import train_test_split\n",
    "import warnings\n",
    "warnings.simplefilter(\"ignore\")\n",
    "warnings.warn(\"deprecated\", DeprecationWarning)\n",
    "warnings.simplefilter(\"ignore\")\n",
    "import matplotlib.pyplot as plt \n",
    "import seaborn as sns\n",
    "from sklearn.preprocessing import MultiLabelBinarizer\n",
    "from sklearn.feature_extraction.text import TfidfVectorizer\n",
    "from collections import Counter\n",
    "from itertools import chain\n",
    "from scipy.sparse import csr_matrix,vstack\n",
    "from sklearn.multiclass import OneVsRestClassifier\n",
    "from sklearn.linear_model import LogisticRegression\n",
    "from sklearn.discriminant_analysis import LinearDiscriminantAnalysis\n",
    "from sklearn.svm import LinearSVC\n",
    "from sklearn.naive_bayes import MultinomialNB\n",
    "from sklearn.metrics import accuracy_score\n",
    "from sklearn.metrics import f1_score\n",
    "from sklearn.metrics import roc_auc_score \n",
    "from sklearn.metrics import average_precision_score\n",
    "from sklearn.metrics import recall_score\n",
    "from functools import partial\n",
    "\n"
   ]
  },
  {
   "cell_type": "markdown",
   "metadata": {},
   "source": [
    "#### Load training dataset and define independant and dependant variable"
   ]
  },
  {
   "cell_type": "code",
   "execution_count": 2,
   "metadata": {},
   "outputs": [
    {
     "name": "stdout",
     "output_type": "stream",
     "text": [
      "(575907, 2)\n",
      "<class 'numpy.ndarray'>\n"
     ]
    }
   ],
   "source": [
    "dataset = pd.read_csv('training_data.csv')\n",
    "print(dataset.shape)\n",
    "\n",
    "X=dataset['titles'].values\n",
    "Y=dataset['labels'].values\n",
    "print(type(X))"
   ]
  },
  {
   "cell_type": "markdown",
   "metadata": {},
   "source": [
    "#### Pre-processing for stopwords, whitespaces, digits which corresponds to weight of the commodity in the titles."
   ]
  },
  {
   "cell_type": "code",
   "execution_count": 3,
   "metadata": {},
   "outputs": [],
   "source": [
    "def text_preprocess(text,join_with):\n",
    "    \"\"\"\n",
    "        text: a string\n",
    "        \n",
    "        return: modified initial string\n",
    "    \"\"\"\n",
    "    special_symbols = re.compile('[/(){}\\[\\]\\|@,;]')\n",
    "    special_characters = re.compile('[^0-9a-z #+_]')\n",
    "    stop_words = list((stopwords.words('english')))\n",
    "    digits = re.compile('[0-9]+')\n",
    "    text = text.lower() \n",
    "    text = re.sub(special_symbols,\" \",text,)\n",
    "    text = re.sub(special_characters,\"\",text)\n",
    "    text = re.sub(r'\\s+',\" \",text)\n",
    "    text = re.sub(digits,\"\", text)\n",
    "\n",
    "    text = f'{join_with}'.join([i for i in text.split() if i not in stop_words])\n",
    "    \n",
    "    return text"
   ]
  },
  {
   "cell_type": "code",
   "execution_count": 4,
   "metadata": {},
   "outputs": [],
   "source": [
    "X = [text_preprocess(x,' ') for x in X]\n",
    "Y = [text_preprocess(x,',') for x in Y]"
   ]
  },
  {
   "cell_type": "markdown",
   "metadata": {},
   "source": [
    "#### Create dictionary of all train corpus and thier frequencies"
   ]
  },
  {
   "cell_type": "code",
   "execution_count": 5,
   "metadata": {},
   "outputs": [
    {
     "name": "stdout",
     "output_type": "stream",
     "text": [
      "Counter({'beverages': 177706, 'snacks': 172679, 'branded': 101891, 'grocery': 101891, 'sweets': 76286, 'confectionery': 73089, 'dairy': 59141, 'breakfast': 59049, 'cereals': 59049, 'food': 45967, 'instant': 41860, 'care': 39641, 'personal': 19111, 'medicines': 16454, 'healthcare': 15739, 'wellness': 15739, 'drugs': 15739, 'home': 13433, 'fruits': 12455, 'staples': 12329, 'vegetables': 11061, 'cosmetics': 9158, 'makeup': 9158, 'repellent': 7074, 'insect': 7068, 'pest': 7067, 'repellents': 7067, 'oil': 5788, 'edible': 5705, 'frozen': 5005, 'bakery': 4832, 'hand': 4184, 'chocolate': 3964, 'hair': 3786, 'baby': 3413, 'spices': 2722, 'masala': 2715, 'eggs': 2464, 'bars': 2376, 'gel': 2227, 'sanitizer': 2092, 'seafood': 2038, 'water': 1983, 'sauces': 1935, 'accessories': 1841, 'products': 1837, 'pickles': 1719, 'biscuits': 1637, 'powder': 1603, 'nuts': 1505, 'dried': 1482, 'readytocook': 1400, 'cookies': 1378, 'deodorants': 1269, 'antiprespirants': 1269, 'ghee': 1268, 'coffee': 1221, 'soaps': 1188, 'bathing': 1188, 'tea': 1181, 'cocoa': 1103, 'cleaning': 1103, 'agents': 1098, 'serum': 1046, 'spreads': 1034, 'fresh': 932, 'cream': 786, 'oral': 726, 'otc': 715, 'first': 715, 'aid': 715, 'dental': 703, 'canned': 637, 'preserved': 637, 'desi': 634, 'bread': 521, 'detergent': 489, 'shaving': 472, 'chicken': 466, 'nonveg': 466, 'fabric': 408, 'drinks': 396, 'pet': 386, 'removal': 379, 'face': 366, 'milk': 355, 'energy': 353, 'nutrition': 329, 'supplements': 329, 'lotion': 325, 'moisturizer': 302, 'cold': 288, 'mixes': 277, 'storage': 271, 'health': 265, 'condiments': 262, 'readytoeat': 227, 'sugar': 200, 'syrups': 198, 'sherbat': 198, 'salt': 188, 'ayurvedic': 171, 'sanitary': 162, 'conditioner': 159, 'brush': 159, 'shave': 144, 'needs': 137, 'scrubber': 136, 'body': 116, 'rice': 109, 'perfume': 104, 'bath': 91, 'cleaner': 81, 'basmati': 74, 'paste': 72, 'fruit': 72, 'dal': 70, 'soup': 70, 'noodles': 70, 'pastries': 69, 'shampoo': 64, 'pasta': 64, 'pharmaceuticals': 64, 'medical': 64, 'supplies': 64, 'cleanser': 63, 'namkeen': 62, 'mixture': 62, 'dishwash': 61, 'balm': 60, 'atta': 59, 'flours': 59, 'wash': 57, 'pulses': 55, 'skin': 52, 'blades': 51, 'pain': 45, 'freshener': 45, 'sauce': 45, 'organic': 44, 'rava': 42, 'sooji': 42, 'suji': 42, 'rawa': 42, 'semolina': 42, 'cooking': 42, 'foam': 41, 'car': 39, 'honey': 38, 'color': 38, 'colour': 38, 'shower': 38, 'styling': 38, 'desserts': 37, 'dessert': 37, 'white': 37, 'pickle': 37, 'olive': 34, 'fragrance': 34, 'air': 33, 'sticks': 33, 'juices': 32, 'papad': 30, 'appalam': 30, 'cashews': 29, 'cashewnuts': 29, 'kaju': 29, 'cake': 27, 'liquid': 26, 'highlights': 26, 'dye': 26, 'chewing': 26, 'gum': 26, 'floor': 26, 'whole': 26, 'toilet': 26, 'lip': 25, 'chips': 25, 'bar': 25, 'sports': 24, 'womens': 24, 'soap': 24, 'eye': 24, 'jam': 23, 'wafer': 22, 'facial': 22, 'polish': 22, 'popcorn': 21, 'muesli': 21, 'chikki': 21, 'cheese': 21, 'insecticides': 21, 'oats': 21, 'oat': 21, 'meal': 21, 'squash': 20, 'crush': 20, 'pads': 19, 'napkins': 19, 'mayonnaise': 19, 'mango': 19, 'pomade': 19, 'wax': 19, 'toothpaste': 18, 'teeth': 18, 'whitening': 18, 'mask': 18, 'scrubs': 18, 'exfoliators': 18, 'lime': 18, 'concentrates': 18, 'phenyl': 18, 'almonds': 18, 'badam': 18, 'fryums': 17, 'ground': 17, 'filter': 17, 'soft': 17, 'aerated': 17, 'agricultural': 17, 'bags': 17, 'veg': 17, 'toothbrush': 17, 'vermicelli': 16, 'semiya': 16, 'moisturiser': 16, 'asterigents': 16, 'treatments': 16, 'splash': 16, 'mouth': 16, 'stationery': 15, 'multipurpose': 15, 'relief': 15, 'garbage': 15, 'corn': 15, 'flakes': 15, 'room': 14, 'fresheners': 14, 'liner': 14, 'cleansing': 14, 'yogurt': 13, 'lassi': 13, 'bathroom': 13, 'bun': 12, 'dog': 12, 'kitchen': 12, 'compact': 12, 'cat': 12, 'dates': 12, 'flour': 12, 'rusk': 11, 'toast': 11, 'appliances': 11, 'shoe': 11, 'glass': 10, 'broom': 10, 'free': 10, 'artificial': 10, 'sweetener': 10, 'whitener': 10, 'butter': 10, 'gram': 9, 'raw': 9, 'condensed': 9, 'wipes': 9, 'tampons': 9, 'panty': 9, 'liners': 9, 'massage': 9, 'softner': 9, 'candles': 8, 'baking': 8, 'ingredients': 8, 'seasoning': 8, 'dinner': 8, 'coconut': 8, 'utilities': 8, 'digestives': 7, 'pencil': 7, 'base': 6, 'duster': 6, 'blended': 6, 'millet': 6, 'bajra': 6, 'boiled': 6, 'showers': 6, 'jaggery': 6, 'pooja': 6, 'besan': 6, 'mosquito': 6, 'towel': 5, 'mustard': 5, 'batteries': 5, 'dry': 5, 'fish': 5, 'disposable': 5, 'dust': 5, 'pan': 5, 'sunflower': 5, 'seasonings': 5, 'rubs': 5, 'international': 5, 'kitchenware': 5, 'raisin': 5, 'kismis': 5, 'bran': 4, 'drain': 4, 'furniture': 4, 'soda': 4, 'set': 4, 'roll': 4, 'sets': 4, 'camphor': 4, 'groundnut': 4, 'pesticides': 4, 'stain': 4, 'remover': 4, 'chana': 3, 'bengal': 3, 'channa': 3, 'tongue': 3, 'cleaners': 3, 'scrapers': 3, 'canola': 3, 'battery': 3, 'foundation': 3, 'antiseptics': 3, 'moisture': 3, 'absorber': 3, 'poha': 3, 'beaten': 3, 'flattened': 3, 'avalakki': 3, 'aval': 3, 'pedicure': 3, 'manicure': 3, 'kit': 3, 'pistachios': 3, 'pista': 3, 'masoor': 3, 'masur': 3, 'lentils': 3, 'coolers': 2, 'barley': 2, 'jau': 2, 'tooth': 2, 'flask': 2, 'mug': 2, 'toothpick': 2, 'wheat': 2, 'crackers': 2, 'floss': 2, 'flossers': 2, 'ceiling': 1, 'fans': 1, 'aluminium': 1, 'foil': 1, 'cling': 1, 'wrap': 1, 'spaghetti': 1, 'spray': 1, 'bleach': 1, 'pav': 1, 'bhaji': 1, 'casserole': 1, 'mixed': 1, 'napthalene': 1, 'balls': 1, 'brushes': 1, 'feeding': 1, 'bottle': 1, 'nipple': 1, 'socks': 1, 'matchboxes': 1, 'gift': 1, 'pack': 1, 'adult': 1, 'diapers': 1, 'travelling': 1, 'trolley': 1, 'luggage': 1, 'sesame': 1, 'gingelly': 1, 'til': 1, 'jug': 1})\n"
     ]
    },
    {
     "data": {
      "image/png": "[encoded data removed]",
      "text/plain": [
       "<Figure size 864x1080 with 1 Axes>"
      ]
     },
     "metadata": {},
     "output_type": "display_data"
    }
   ],
   "source": [
    "tags_counts = Counter(chain.from_iterable([i.split(\",\") for i in Y]))\n",
    "print(tags_counts)\n",
    "all_titles = nltk.FreqDist(tags_counts) \n",
    "all_titles_df = pd.DataFrame({'Title': list(all_titles.keys()), \n",
    "                              'Count': list(all_titles.values())})\n",
    "\n",
    "g = all_titles_df.nlargest(columns=\"Count\", n = 50) \n",
    "plt.figure(figsize=(12,15)) \n",
    "ax = sns.barplot(data=g, x= \"Count\", y = \"Title\") \n",
    "plt.show()\n",
    "words_counts = Counter(chain.from_iterable([i.split(\" \") for i in X]))"
   ]
  },
  {
   "cell_type": "markdown",
   "metadata": {},
   "source": [
    "#### Text to vector transformation"
   ]
  },
  {
   "cell_type": "code",
   "execution_count": 6,
   "metadata": {},
   "outputs": [
    {
     "name": "stdout",
     "output_type": "stream",
     "text": [
      "dict_keys(['g', 'tea', 'ml', 'organic', 'chocolate', 'n', 'gm', 'healthy', 'alternatives', 'kg', 'milk', 'culture', 'get', 'food', 'gms', 'natures', 'best', 'conscious', 'w', 'green', 'powder', 'loose', 'l', 'dark', 'juice', 'fruit', 'lexclusif', 'bar', 'rice', 'masala', 'coffee', 'oil', 'mix', 'roasted', 'honey', 'instant', 'mantra', 'cream', 'noodles', 'whole', 'black', 'tb', 'seeds', 'pack', 'devi', 'almond', 'pcs', 'chicken', 'pouch', 'cookies', 'dal', 'garden', 'butter', 'flour', 'chips', 'sugar', 'red', 'flavour', 'lemon', 'india', 'nuts', 'white', 'drink', 'orange', 'beans', 'strawberry', 'free', 'original', 'muesli', 'crunchy', 'pure', 'mango', 'cheese', 'oats', 'nature', 'natural', 'koka', 'peanut', 'olive', 'wheat', 'cadbury', 'u', 'kelloggs', 'syrup', 'snack', 'pepper', 'tong', 'classic', 'apple', 'lindt', 'vanilla', 'desi', 'fresh', 'almonds', 'salt', 'potato', 'real', 'gold', 'blue', 'protein', 'tomato', 'choco', 'belgian', 'extra', 'ginger', 'bb', 'american', 'hazelnut', 'home', 'rostaa', 'nestle', 'loacker', 'brown', 'atta', 'cashew', 'biscuits', 'tropicana', 'salted', 'x', 'dried', 'cup', 'chana', 'ltr', 'premium', 'mixed', 'basmati', 'chilli', 'finest', 'twinings', 'aer', 'delite', 'dairy', 'ice', 'wafer', 'bags', 'heidi', 'typhoo', 'water', 'wash', 'bottle', 'cereal', 'nourish', 'ragi', 'flavoured', 'dry', 'soya', 'mint', 'soft', 'cocoa', 'slim', 'spray', 'spread', 'nut', 'coconut', 'fresho', 'candy', 'origami', 'creamy', 'royal', 'pickle', 'pappco', 'soup', 'cranberry', 'dates', 'biscuit', 'organics', 'flax', 'cake', 'co', 'preserve', 'hersheys', 'capsules', 'cinnamon', 'shampoo', 'monin', 'vegetable', 'paper', 'mogu', 'digestive', 'corn', 'hair', 'ritebite', 'style', 'baby', 'swiss', 'mtr', 'tulsi', 'garlic', 'hazelnuts', 'sapphire', 'freshener', 'britannia', 'fine', 'sesame', 'arabica', 'fruits', 'saffron', 'khazana', 'quadratini', 'carton', 'bonne', 'maman', 'delight', 'spicy', 'good', 'combo', 'added', 'drops', 'amul', 'soap', 'split', 'crunch', 'jam', 'mustard', '+', 'sante', 'assorted', 'sport', 'multipack', 'pineapple', 'cavendish', 'body', 'pink', 'cocktail', 'espresso', 'millet', 'dilmah', 'cool', 'lime', 'pc', 'flakes', 'ambrosia', 'mini', 'ghee', 'dabur', 'batchelors', 'coated', 'sweet', 'teame', 'care', 'hot', 'coriander', 'jalapeno', 'light', 'keya', 'wild', 'tortilla', 'apricot', 'gel', 'nutrition', 'blend', 'cold', 'granola', 'kitchen', 'peanuts', 'moong', 'face', 'yoga', 'dip', 'gaia', 'urad', 'curry', 'darjeeling', 'everest', 'active', 'delaviuda', 'super', 'skin', 'rich', 'ritter', 'pasta', 'guava', 'de', 'banana', 'cardamom', 'godrej', 'blueberry', 'raspberry', 'st', 'sauce', 'sanjeev', 'kapoors', 'health', 'pressed', 'raw', 'breakfast', 'foods', 'peach', 'patanjali', 'stick', 'crackers', 'refill', 'zero', 'grain', 'mackays', 'raisins', 'sour', 'oolong', 'gluten', 'pomegranate', 'farm', 'car', 'himalaya', 'collection', 'seed', 'sparkling', 'sunflower', 'bran', 'onion', 'oat', 'salsalito', 'gum', 'mex', 'lotion', 'epicure', 'bird', 'ground', 'soulfull', 'tex', 'jasmine', 'printed', 'turmeric', 'poha', 'box', 'boat', 'berries', 'sargam', 'basil', 'daawat', 'pedigree', 'grape', 'forest', 'pistachio', 'coco', 'japanese', 'air', 'peas', 'crips', 'kolln', 'twist', 'medium', 'top', 'fried', 'wafers', 'chili', 'yellow', 'fazlani', 'ply', 'marmalade', 'saffola', 'flaxseed', 'nescafe', 'tree', 'tin', 'mill', 'baked', 'walkers', 'bobs', 'thins', 'berry', 'general', 'items', 'post', 'spice', 'nata', 'cherry', 'yan', 'amla', 'seedless', 'salsa', 'large', 'filter', 'mills', 'chunky', 'haldirams', 'rose', 'pancake', 'matcha', 'surf', 'indiagate', 'tata', 'desert', 'bites', 'idli', 'deo', 'formula', 'hi', 'doritos', 'methi', 'filling', 'caramel', 'harvey', 'pants', 'karachi', 'leaf', 'badam', 'freeze', 'sea', 'rolls', 'veg', 'maggi', 'mission', 'cracker', 'kashmiri', 'whittakers', 'jar', 'nos', 'multi', 'cleaner', 'low', 'choice', 'master', 'crisps', 'spanish', 'maple', 'cumin', 'sprig', 'bean', 'lite', 'cola', 'paseo', 'detergent', 'click', 'hintz', 'pillsbury', 'golden', 'betty', 'crocker', 'skippy', 'bread', 'meat', 'popcorn', 'ocean', 'fat', 'men', 'bhujia', 'hero', 'colgate', 'truffle', 'dream', 'parsi', 'gram', 'fudge', 'vicenzi', 'chefs', 'mineral', 'chai', 'pastry', 'nivea', 'ceramic', 'multigrain', 'lakme', 'small', 'el', 'nacho', 'round', 'taj', 'ceres', 'puff', 'plus', 'fiesta', 'valley', 'flush', 'bagrrys', 'max', 'quinoa', 'borges', 'nutrus', 'english', 'kit', 'mothers', 'biodegradable', 'magic', 'musk', 'flavor', 'special', 'almendro', 'bars', 'superior', 'walnut', 'aashirvaad', 'grains', 'baking', 'ajwain', 'sev', 'party', 'litchi', 'herbal', 'letter', 'toothpaste', 'jowar', 'mints', 'paste', 'anti', 'double', 'virgin', 'papad', 'gillette', 'garam', 'brookside', 'snackmix', 'herbs', 'turron', 'pads', 'peppermint', 'liquid', 'dosa', 'exotic', 'big', 'del', 'beantree', 'mama', 'towel', 'icing', 'signature', 'fish', 'khakhra', 'wasabi', 'filled', 'basket', 'haribo', 'cut', 'passion', 'creme', 'raisin', 'nuggets', 'thai', 'toilet', 'dalia', 'monini', 'maid', 'bamboo', 'puffs', 'milka', 'amaranth', 'toblerone', 'cranberries', 'mangajo', 'chilly', 'cm', 'silver', 'fackelmann', 'snacks', 'sweets', 'pulls', 'energy', 'besan', 'jeera', 'topping', 'old', 'biryani', 'plates', 'fragata', 'conditioner', 'pista', 'johnson', 'assam', 'nutrichoice', 'stute', 'cow', 'ultra', 'vitamin', 'jaggery', 'set', 'sugarfree', 'snax', 'malabar', 'roll', 'lokale', 'lavazza', 'aloe', 'diapers', 'french', 'cottage', 'daily', 'bliss', 'high', 'prasuma', 'chamomile', 'sticks', 'mister', 'oreo', 'pumpkin', 'power', 'cereals', 'namkeen', 'rajma', 'diabetic', 'schweppes', 'tissues', 'ramen', 'happy', 'dove', 'hand', 'grey', 'day', 'ancient', 'gourmet', 'prawn', 'dalfour', 'scottish', 'block', 'knorr', 'jamun', 'smooth', 'juicereal', 'non', 'mahal', 'deodorant', 'silk', 'nachos', 'cal', 'clear', 'chunk', 'bag', 'sugarless', 'microwave', 'tattva', 'mc', 'napolitaner', 'orbit', 'trident', 'nesquik', 'kale', 'aa', 'chip', 'opera', 'radhikas', 'sliced', 'preserves', 'candies', 'ceylon', 'juicery', 'wet', 'dorset', 'diamond', 'semolina', 'vities', 'robusta', 'disposable', 'jelly', 'art', 'blackcurrant', 'tur', 'popular', 'kitchens', 'flat', 'mung', 'grandos', 'petal', 'glass', 'kisses', 'steel', 'clean', 'grass', 'breakers', 'easy', 'go', 'color', 'shortbread', 'crush', 'bitter', 'fiber', 'barbeque', 'pro', 'infant', 'quaker', 'brush', 'chakli', 'lush', 'finger', 'gatorade', 'adult', 'gathering', 'arhar', 'fibre', 'traditional', 'indian', 'garnier', 'parle', 'lactogen', 'colour', 'nutella', 'mamra', 'vent', 'ccds', 'neo', 'first', 'davidoff', 'mcvities', 'dettol', 'pampers', 'munchys', 'tropical', 'bhel', 'bengal', 'punk', 'travel', 'walnuts', 'goji', 'chaat', 'wipes', 'shine', 'vera', 'miniatures', 'darjeling', 'wrap', 'italian', 'approx', 'bull', 'regular', 'monte', 'wholewheat', 'loreal', 'tissue', 'gunpowder', 'mushroom', 'glad', 'irani', 'johnsons', 'handwash', 'protekt', 'spf', 'crispy', 'chocos', 'prunes', 'sensitive', 'nissin', 'honeyland', 'egg', 'calcium', 'smoked', 'earl', 'cling', 'xl', 'croutons', 'conserve', 'paprika', 'kidney', 'vinegar', 'maida', 'intense', 'fortune', 'supreme', 'long', 'rock', 'mb', 'bakery', 'chunks', 'explorer', 'sheets', 'tummies', 'yoghurt', 'terra', 'mars', 'minisnacks', 'matlide', 'cube', 'morning', 'toor', 'rocks', 'rusk', 'fills', 'metal', 'sri', 'shaving', 'chewing', 'total', 'supplement', 'chings', 'schezwan', 'lip', 'mild', 'pearl', 'soyabean', 'cappuccino', 'pressery', 'jacker', 'bowl', 'facial', 'duc', 'slices', 'wings', 'belgium', 'club', 'town', 'chups', 'cashews', 'oatmeal', 'pie', 'cerelac', 'hing', 'tetley', 'ponds', 'tom', 'aloo', 'tamarind', 'ready', 'theobroma', 'refined', 'asahi', 'kasei', 'pecan', 'size', 'moist', 'shave', 'sandwich', 'neem', 'tooth', 'foam', 'sanitary', 'prawns', 'aroma', 'himalayan', 'vanila', 'matilde', 'imported', 'citrus', 'new', 'mamy', 'chocolates', 'paneer', 'bbq', 'smoke', 'fazer', 'fenugreek', 'poko', 'afc', 'sprouted', 'kara', 'kinh', 'alphonso', 'heinz', 'scrub', 'revive', 'lemongrass', 'rava', 'salami', 'cups', 'truffles', 'spoon', 'axe', 'floor', 'sports', 'miso', 'hakka', 'chikki', 'sambhar', 'four', 'yummiez', 'ferrero', 'aamras', 'chia', 'chakki', 'clover', 'whisper', 'fennel', 'suji', 'c', 'nb', 'zorabian', 'glow', 'spirulina', 'khus', 'caramelized', 'bajri', 'cows', 'touch', 'stage', 'fru', 'pork', 'mutton', 'plain', 'caffe', 'huggies', 'blackberry', 'select', 'vita', 'variety', 'london', 'fig', 'fall', 'illy', 'crushed', 'sonamasuri', 'homogenised', 'floral', 'rocher', 'plate', 'fill', 'immunity', 'tiramisu', 'loops', 'fruity', 'fairness', 'tablet', 'vegetables', 'turkish', 'napkin', 'scorcher', 'capilano', 'flattened', 'kiwi', 'cambay', 'dentastix', 'sunfeast', 'talc', 'toothbrush', 'masoor', 'zerog', 'abbies', 'sikander', 'vada', 'bournvita', 'straws', 'pizza', 'cafe', 'museli', 'sencha', 'kabuli', 'nachni', 'simpkins', 'evian', 'kakao', 'bubbly', 'froot', 'strainer', 'scotch', 'flavored', 'brazil', 'huober', 'sipahh', 'puree', 'paris', 'seven', 'tuna', 'crab', 'sachets', 'mee', 'lavender', 'pesto', 'shower', 'pistachios', 'seedy', 'monsooned', 'kesar', 'loo', 'grand', 'les', 'fork', 'press', 'snackible', 'may', 'bajra', 'harde', 'hershery', 'toast', 'kissan', 'lecta', 'watermelon', 'kamjove', 'toned', 'belvoir', 'gift', 'teapot', 'classical', 'well', 'perrier', 'detox', 'ac', 'kernel', 'cartini', 'stdalfour', 'presse', 'buy', 'nutty', 'meal', 'three', 'acai', 'trail', 'work', 'naturals', 'mojito', 'gentle', 'tiger', 'aftermint', 'tikka', 'pav', 'dolce', 'clove', 'chinese', 'rooibus', 'snickers', 'perfume', 'grandes', 'sausages', 'joy', 'cms', 'yum', 'excel', 'lo', 'deep', 'dressing', 'balance', 'couscous', 'weight', 'grandor', 'tandoori', 'colavita', 'sooji', 'brite', 'infusion', 'chef', 'b', 'toasted', 'crema', 'pine', 'sandal', 'tube', 'biotique', 'nutri', 'stir', 'liver', 'pocket', 'park', 'tangy', 'mp', 'balm', 'pudina', 'turkey', 'gala', 'date', 'repair', 'berg', 'boneless', 'lizol', 'zest', 'anthon', 'condoms', 'bouquet', 'without', 'wingreens', 'cooker', 'second', 'lady', 'groundnut', 'bathing', 'chupa', 'gherkins', 'brook', 'stainless', 'bhaji', 'cook', 'buckwheat', 'towels', 'butterscotch', 'cloves', 'moroccan', 'schogetten', 'fini', 'eggs', 'eazy', 'jumbo', 'haldiram', 'women', 'activ', 'yeast', 'cooking', 'cheddar', 'horlicks', 'omega', 'parachute', 'whitening', 'herbals', 'control', 'lotus', 'sun', 'bite', 'protinex', 'strong', 'time', 'lychee', 'razor', 'drop', 'cubes', 'tang', 'fingers', 'ghana', 'roast', 'complete', 'peri', 'phool', 'chocolatecadbury', 'current', 'cookie', 'gourd', 'series', 'advanced', 'bunches', 'soda', 'napkins', 'broken', 'pitted', 'label', 'makhani', 'brinjal', 'schmitten', 'ham', 'strips', 'moon', 'dishwash', 'nourishing', 'harpic', 'castor', 'rozana', 'khatta', 'kaju', 'funfoods', 'crispies', 'wonder', 'diet', 'eight', 'room', 'frozen', 'custard', 'broad', 'triple', 'elegant', 'chopsticks', 'bio', 'dehydrated', 'vaseline', 'sunsilk', 'eggless', 'quick', 'little', 'catch', 'yardley', 'barley', 'nan', 'brownie', 'manuka', 'buffalo', 'vlcc', 'elaichi', 'cleanser', 'kokozo', 'eat', 'lighter', 'tone', 'ball', 'ketchup', 'toffee', 'gummy', 'spearmint', 'zaini', 'krunchers', 'leek', 'soy', 'delicious', 'plum', 'currant', 'holy', 'mccain', 'vege', 'buds', 'samosa', 'lid', 'carrot', 'seekh', 'pantene', 'mocha', 'chick', 'lifebuoy', 'tetra', 'fabric', 'colouring', 'choclate', 'seal', 'chat', 'beauty', 'olay', 'mexican', 'herb', 'engage', 'fair', 'a+', 'taaza', 'puppy', 'inch', 'restore', 'bond', 'crystal', 'kala', 'matic', 'wrigleys', 'dhania', 'chapati', 'breast', 'weikfield', 'tresemme', 'chocochip', 'gerber', 'olives', 'bakers', 'gravy', 'blueberries', 'dhuli', 'cheerios', 'salmon', 'life', 'pantai', 'pet', 'load', 'tadka', 'grown', 'cornitos', 'duo', 'eucalyptus', 'gourmets', 'drgluten', 'yummy', 'dubar', 'tonic', 'asafoetida', 'altoids', 'lentil', 'chyawanprash', 'farms', 'organically', 'pani', 'cucumber', 'imperial', 'purple', 'clipper', 'milano', 'spc', 'wellness', 'mate', 'rosemary', 'aam', 'lindor', 'puri', 'dandruff', 'mosambi', 'mysore', 'stars', 'peppers', 'absolute', 'kernels', 'foxs', 'kids', 'loaf', 'lays', 'royale', 'single', 'dill', 'lunch', 'greek', 'stem', 'pepsodent', 'milkmaid', 'simply', 'queso', 'ayurvedic', 'dragon', 'knife', 'khari', 'five', 'marie', 'triphala', 'followup', 'seasoning', 'womens', 'miniature', 'mug', 'pediasure', 'id', 'sanitizer', 'alffarms', 'avenue', 'e', 'head', 'squeezy', 'nutmeg', 'medley', 'container', 'thyme', 'moisture', 'one', 'stayfree', 'starter', 'smart', 'premia', 'karl', 'jaljeera', 'stock', 'eastern', 'sams', 'expert', 'chutney', 'gadre', 'sabji', 'way', 'praline', 'cowpea', 'daliya', 'mm', 'spices', 'star', 'ranch', 'kat', 'singhara', 'ivory', 'panmonviso', 'nail', 'dog', 'disco', 'cotton', 'replacer', 'night', 'ariel', 'fiery', 'lune', 'miel', 'powdernestle', 'bruschette', 'rozzana', 'mayonnaise', 'plums', 'cornflakes', 'table', 'nutricion', 'vermicelli', 'noir', 'fogg', 'pot', 'packs', 'watermelons', 'renew', 'fragrance', 'spring', 'coarse', 'zardalu', 'containers', 'barnyard', 'seahorse', 'days', 'channa', 'cheesy', 'sours', 'cantina', 'extreme', 'soluble', 'mediterranean', 'pound', 'freshner', 'aaa', 'navratan', 'triangles', 'squeeze', 'k', 'blended', 'sattu', 'patni', 'kachori', 'alfez', 'test', 'ii', 'mahalbrooke', 'flask', 'wooden', 'covered', 'mop', 'romance', 'satay', 'sanjeevani', 'reeses', 'kodo', 'minerals', 'ashwagandha', 'zesty', 'cholesterol', 'standy', 'embrace', 'tahini', 'grenadine', 'kawa', 'delicate', 'zyraas', 'vim', 'fizzy', 'al', 'sihor', 'cuisine', 'macadamia', 'panna', 'expresso', 'makki', 'gummies', 'safawi', 'leaves', 'kadhai', 'dhalia', 'everyday', 'bocconcini', 'household', 'ghrit', 'mi', 'tart', 'maxi', 'imli', 'curacao', 'fusion', 'garofalo', 'grani', 'aampapad', 'lavang', 'world', 'nov', 'gulab', 'burger', 'lemoneez', 'fritters', 'uplift', 'nilgiri', 'lovely', 'milky', 'odonil', 'nibs', 'sweetmint', 'decaffeinated', 'punjabi', 'caffeine', 'geisha', 'kanti', 'pea', 'ginseng', 'excellence', 'maria', 'skewers', 'protect', 'bhakharwadi', 'thick', 'ez', 'demerara', 'sorghum', 'bore', 'honeys', 'plunger', 'bracer', 'sharbati', 'anjir', 'rolled', 'alta', 'rica', 'santa', 'elixir', 'form', 'zipper', 'baba', 'revitalise', 'wall', 'kahwa', 'tusli', 'pops', 'toothpick', 'recipe', 'crocanti', 'meiji', 'promegranate', 'act', 'mosquito', 'full', 'rosted', 'matki', 'loss', 'saucy', 'alsi', 'buttrer', 'singapore', 'jolly', 'pearls', 'swis', 'hommade', 'bolt', 'fun', 'sourpunk', 'mabroom', 'nugget', 'canadian', 'icebreakers', 'calming', 'grapes', 'flowery', 'california', 'cheer', 'mesh', 'lux', 'zealand', 'yogurt', 'kamasutra', 'ladle', 'hellmanns', 'digest', 'halves', 'wintergreen', 'kaapi', 'dahi', 'protection', 'trip', 'cum', 'clusters', 'grounds', 'side', 'blooming', 'decorative', 'crunchie', 'heart', 'lemonade', 'sulphurless', 'picnic', 'mother', 'app', 'accessory', 'normal', 'patta', 'mouthwash', 'crunchers', 'polar', 'taco', 'tikhalal', 'suva', 'grapefruit', 'needle', 'hint', 'laksa', 'tasty', 'chamallows', 'wayanad', 'penne', 'picks', 'wholemeal', 'moisturising', 'agarbatti', 'morroccan', 'stuff', 'whisk', 'sesme', 'bourbon', 'wth', 'flower', 'crisp', 'epigamia', 'tableware', 'lait', 'bhakarwadi', 'marzipan', 'nilgiris', 'sumeru', 'demon', 'wilbur', 'santos', 'sumatra', 'mandheling', 'fv', 'bouquette', 'sup', 'milkchoco', 'madarin', 'looset', 'dn', 'jamum', 'fondant', 'unwind', 'budangiris', 'bajaj', 'timer', 'singapura', 'gunda', 'hazel', 'bucket', 'strawbery', 'mehti', 'pai', 'mutan', 'kenya', 'pretzel', 'standarised', 'groundnuts', 'burner', 'mega', 'steamer', 'osteoseal', 'mt', 'multiflower', 'rusks', 'ext', 'mue', 'pan', 'teasociety', 'decaf', 'bleach', 'smiley', 'tellicherry', 'qahwa', 'om', 'maharaja', 'treat', 'breathe', 'lobster', 'ka', 'christmas', 'indrani', 'staeta', 'lollipops', 'probiotics', 'ayurveda', 'motion', 'cinthol', 'coast', 'comfort', 'eithiopia', 'yirgacheffe', 'cooler', 'spicer', 'medjool', 'fillet', 'bollywood', 'kurkure', 'unati', 'supar', 'wintermint', 'makaibari', 'rum', 'lollipop', 'lt', 'gels', 'siesta', 'harvest', 'cartridge', 'blood', 'cherr', 'sakleshpur', 'bugangiris', 'wui', 'rancher', 'mapro', 'arrabiata', 'sponge', 'unpolished', 'daromas', 'removal', 'ale', 'biriyani', 'rossa', 'section', 'tieguayin', 'kulfi', 'tej', 'gren', 'loosetea', 'lipid', 'kickstart', 'madagaskar', 'allure', 'slimming', 'biscut', 'hojicha', 'veggie', 'puer', 'salad', 'tate', 'lyle', 'pre', 'kabab', 'uttappam', 'short', 'saudi', 'shredded', 'foil', 'qualita', 'jujubes', 'cakes', 'amarnath', 'hokui', 'nutrela', 'barrel', 'marshmallows', 'genmaicha', 'verum', 'multipurpose', 'silky', 'gyukuro', 'guard', 'diaper', 'maryam', 'sona', 'malt', 'caramelo', 'refreshing', 'sundrop', 'bathroom', 'pad', 'stressbuster', 'anardhana', 'purifier', 'dish', 'stain', 'basa', 'smoor', 'appeal', 'tofu', 'mat', 'lipton', 'goldbaren', 'kebab', 'di', 'murabba', 'attaaashirvaad', 'knight', 'kokam', 'capsicum', 'temptations', 'europaea', 'sole', 'chettinad', 'coca', 'kismis', 'alfredo', 'noodle', 'corriander', 'disinfectant', 'polish', 'jodhpuri', 'caramello', 'generous', 'makhana', 'thin', 'loco', 'pebbles', 'brittle', 'standard', 'arbca', 'mot', 'tablets', 'drinking', 'sunny', 'veet', 'sushi', 'skinless', 'manchurian', 'poco', 'monster', 'pieces', 'italiano', 'mitha', 'pavbhaji', 'maybelline', 'cannellini', 'jegson', 'innovative', 'industries', 'oman', 'six', 'palm', 'peeled', 'infused', 'cheetos', 'sizzling', 'canberrie', 'malai', 'mio', 'gherkin', 'extract', 'purifying', 'muskmelons', 'skimmed', 'faradh', 'aluminium', 'porridge', 'classico', 'mr', 'jamie', 'oliver', 'mazedaar', 'blossom', 'grinder', 'breaker', 'parragon', 'kokum', 'pears', 'shoe', 'antibiotic', 'nonwoven', 'trix', 'solution', 'strands', 'schar', 'curd', 'nights', 'mach', 'shrimp', 'pain', 'olea', 'gymnasium', 'saunf', 'mist', 'bulk', 'cartridges', 'buta', 'lettuce', 'eye', 'chitra', 'xgm', 'sensodyne', 'intensive', 'moisturizing', 'seville', 'dragonfruit', 'perfect', 'cuvee', 'dluxe', 'really', 'mms', 'maiyas', 'handpound', 'gusto', 'fooda', 'eclipse', 'classics', 'surface', 'soothe', 'gate', 'bowls', 'beanz', 'toordal', 'koko', 'balls', 'eva', 'killer', 'restaurant', 'spiced', 'emporio', 'aka', 'avocado', 'shoulder', 'adidas', 'fiama', 'tostitos', 'pringles', 'cupcake', 'mota', 'mdh', 'plastic', 'chawli', 'reload', 'tide', 'essence', 'cycle', 'khatha', 'deck', 'lankan', 'batter', 'front', 'piece', 'patisserie', 'deser', 'snaxt', 'kandee', 'king', 'sage', 'prestige', 'rite', 'toothpicks', 'moisturiser', 'bru', 'ctc', 'sofit', 'imp', 'book', 'bath', 'manchow', 'ag', 'lindberg', 'nutritional', 'jules', 'kohinoor', 'pomace', 'madia', 'wine', 'chunkies', 'minis', 'minestrone', 'pur', 'pressure', 'fit', 'damage', 'everyuth', 'swirl', 'bloopers', 'pup', 'ambi', 'crepe', 'unbleached', 'remover', 'destroper', 'skore', 'fillets', 'hugs', 'kolam', 'massage', 'tiffany', 'xgms', 'minute', 'insect', 'bacon', 'slice', 'essential', 'shop', 'cape', 'cleansing', 'oralb', 'dentyne', 'everfresh', 'frosted', 'mixture', 'chococlate', 'wills', 'shade', 'relief', 'bambino', 'tub', 'perfumed', 'lal', 'mughlali', 'mason', 'citadelle', 'haagen', 'dazs', 'fantasy', 'hit', 'drupe', 'carbonated', 'eatelish', 'sofy', 'western', 'veeba', 'murg', 'sublime', 'fizz', 'mirch', 'scissors', 'broccoli', 'tops', 'gloss', 'sure', 'seafood', 'quality', 'cauliflower', 'flying', 'fez', 'wide', 'brine', 'half', 'santoor', 'horse', 'made', 'foxtail', 'glade', 'paratha', 'agro', 'splash', 'matte', 'basilico', 'aloevera', 'palmolive', 'leonardo', 'veggi', 'rin', 'ct', 'krispies', 'base', 'kaboli', 'hard', 'minty', 'oral', 'urban', 'lactose', 'heavy', 'sachet', 'processed', 'serum', 'kimchi', 'graduates', 'sugarfreegum', 'papaya', 'grade', 'mouth', 'con', 'kellogs', 'blaster', 'venkys', 'cinnoman', 'maltesers', 'clearys', 'elle', 'velvet', 'jor', 'listerine', 'incense', 'junior', 'kinder', 'secret', 'byadgi', 'tins', 'defatted', 'antiseptic', 'secure', 'chesse', 'masti', 'lyoner', 'tail', 'disney', 'safavi', 'boost', 'therapy', 'spinach', 'gas', 'cologne', 'stemless', 'bhakti', 'lion', 'natura', 'advansed', 'savory', 'piri', 'celebrations', 'prohealth', 'battery', 'vicco', 'leg', 'blades', 'earth', 'glucose', 'plax', 'patty', 'steak', 'destress', 'pressn', 'flavouring', 'dew', 'stone', 'marinated', 'yom', 'antidandruff', 'pen', 'seek', 'mince', 'pomfret', 'tray', 'silicone', 'hawkins', 'grace', 'chandan', 'skincare', 'heat', 'pear', 'clinic', 'washing', 'fries', 'love', 'saver', 'foaming', 'unsweetened', 'rawa', 'oregano', 'melon', 'bake', 'creams', 'complan', 'lamb', 'onions', 'frosties', 'sant', 'dalmai', 'menthol', 'venus', 'hull', 'repellent', 'disano', 'cleaning', 'close', 'kesh', 'ladyfinger', 'action', 'cider', 'temptation', 'ayush', 'sabut', 'shahi', 'hide', 'hummus', 'napolitains', 'sodakinley', 'fry', 'ghani', 'cavity', 'studio', 'peeler', 'danone', 'chappati', 'platinum', 'sultana', 'squash', 'wholegrain', 'aachi', 'masoori', 'duracell', 'chatpata', 'cloth', 'detoxifying', 'true', 'homemade', 'dental', 'heavens', 'fem', 'millets', 'moods', 'miracle', 'rs', 'premier', 'cabbage', 'kraft', 'achari', 'shoulders', 'sambar', 'moisturizer', 'wick', 'galaxy', 'vector', 'rigate', 'henna', 'spaghetti', 'chevon', 'mould', 'malka', 'amchur', 'celery', 'husk', 'kwality', 'soan', 'papdi', 'tiny', 'ganesh', 'palak', 'kishmish', 'parota', 'mighty', 'sprouts', 'drumstick', 'dr', 'psyllium', 'china', 'neutrogena', 'aqua', 'duck', 'haldi', 'bisk', 'fructis', 'wai', 'emami', 'banjaras', 'bella', 'mask', 'biscotti', 'orchid', 'sprite', 'boiled', 'lock', 'less', 'fusilli', 'apricots', 'icecream', 'scrubber', 'betroot', 'shake', 'manual', 'lavash', 'pods', 'frying', 'bombay', 'tender', 'blends', 'deluxe', 'pigeon', 'ayur', 'nirosta', 'elicious', 'meetha', 'broom', 'effect', 'pourers', 'house', 'moments', 'sabudana', 'stopper', 'til', 'diced', 'sausage', 'pepsi', 'dogs', 'defense', 'nyle', 'tan', 'luxury', 'smokehouse', 'kajal', 'subedi', 'macaroni', 'stuffed', 'country', 'zenker', 'dana', 'swing', 'safe', 'exfoliating', 'craver', 'muscle', 'ultrathin', 'kettle', 'ifb', 'glucosamine', 'mogra', 'cacao', 'radiance', 'freshness', 'platter', 'medimix', 'gowardhan', 'blast', 'kalunji', 'opener', 'hold', 'pop', 'rescue', 'nothing', 'crme', 'pril', 'licious', 'lightening', 'prabhuji', 'magnum', 'refillable', 'john', 'summer', 'marmite', 'bikano', 'gits', 'bubblegum', 'hobnobs', 'wildflower', 'unibic', 'parsley', 'vanish', 'rai', 'cirio', 'safflower', 'pull', 'closer', 'nickelplated', 'hairfall', 'durex', 'anise', 'madagascar', 'roxx', 'dinner', 'facewash', 'danish', 'savlon', 'dotted', 'ageing', 'clorox', 'story', 'whitener', 'twin', 'agarbathi', 'shahnaz', 'breeze', 'kachi', 'uv', 'mart', 'safal', 'cub', 'feeding', 'winter', 'brightening', 'denim', 'range', 'delightfully', 'sampann', 'goat', 'mumum', 'beer', 'meals', 'nilons', 'pulse', 'value', 'iris', 'husain', 'yippee', 'newby', 'priya', 'talcum', 'pump', 'kool', 'californian', 'lipstick', 'khao', 'shong', 'meatzza', 'apollo', 'spa', 'west', 'beverage', 'glucond', 'dessert', 'visible', 'operator', 'eno', 'walls', 'beetroot', 'muffin', 'carat', 'anar', 'bael', 'balanced', 'wipro', 'wonderful', 'cheez', 'dust', 'figaro', 'teabags', 'laundry', 'upma', 'chop', 'nandini', 'flow', 'teeth', 'darbari', 'brahmi', 'effects', 'mnm', 'wipe', 'woman', 'whiskas', 'unsalted', 'sunscreen', 'cremica', 'express', 'bisleri', 'pravin', 'bauwens', 'eco', 'age', 'storage', 'pulpy', 'bees', 'drools', 'muskmelon', 'soothing', 'unique', 'liao', 'domex', 'swift', 'henko', 'dant', 'navratna', 'winkies', 'la', 'chini', 'atlantic', 'bagel', 'matar', 'wax', 'rasam', 'wagh', 'avalakki', 'blooms', 'kali', 'square', 'tasties', 'ever', 'blues', 'arts', 'bakri', 'bounty', 'burgundy', 'glycerine', 'keratin', 'months', 'jhada', 'herbz', 'street', 'sharbat', 'nice', 'karela', 'lucky', 'bukhara', 'mortein', 'cecco', 'bouquets', 'san', 'bloom', 'trim', 'dryness', 'insta', 'shakti', 'rush', 'shree', 'knees', 'toy', 'germ', 'manforce', 'bigbasket', 'zandu', 'alpine', 'durum', 'fa', 'seer', 'veda', 'v', 'zucchini', 'garbage', 'suhana', 'cutting', 'look', 'feel', 'vega', 'punch', 'assure', 'rinds', 'spot', 'haagendazs', 'capsule', 'malas', 'vire', 'pazzta', 'lassi', 'vegan', 'croissant', 'alpenliebe', 'casting', 'maxfresh', 'handle', 'chilka', 'parfait', 'dreamflower', 'pimple', 'xxl', 'chill', 'organa', 'marks', 'combi', 'princeware', 'rasna', 'cover', 'affair', 'great', 'greens', 'mojo', 'vatika', 'taste', 'nagpur', 'bingo', 'none', 'lather', 'moth', 'rainbow', 'skittles', 'absorb', 'ruby', 'pak', 'purpose', 'ezee', 'pudhina', 'powered', 'nipple', 'gulabari', 'slab', 'thums', 'bunch', 'tawa', 'podi', 'steam', 'mast', 'turbo', 'mackerel', 'snapin', 'alkaline', 'odomos', 'crystals', 'munch', 'tilapia', 'sugarcane', 'refresh', 'pant', 'frish', 'foot', 'hello', 'litre', 'mountain', 'vicks', 'canola', 'bon', 'kheema', 'drinks', 'dhara', 'milton', 'radish', 'monginis', 'spinz', 'halwai', 'advance', 'pita', 'pulp', 'years', 'chiwda', 'family', 'elements', 'sandalwood', 'gosht', 'kaka', 'exo', 'heritage', 'relish', 'shape', 'mg', 'alcohol', 'ramdev', 'phalada', 'sprays', 'meaty', 'guacamole', 'toner', 'essentials', 'janakpuri', 'bark', 'whey', 'edible', 'strengthening', 'follow', 'chipotle', 'washington', 'purify', 'ruchi', 'shell', 'wanowrie', 'zigzag', 'anne', 'nimbu', 'back', 'nectar', 'gota', 'futura', 'daal', 'caps', 'vivel', 'steaks', 'surmai', 'mickey', 'dietfoods', 'philips', 'scalp', 'treats', 'lily', 'chopped', 'champion', 'xtra', 'pecans', 'probiotic', 'man', 'ring', 'capella', 'buttermilk', 'farfalle', 'precious', 'le', 'eagle', 'drymax', 'straight', 'kinley', 'soul', 'iyers', 'amrutanjan', 'delights', 'anjeer', 'pulao', 'naturally', 'fragrant', 'roses', 'sangria', 'chive', 'treatment', 'revlon', 'teddies', 'tomatoes', 'blossoms', 'comb', 'growth', 'led', 'satin', 'tabasco', 'mary', 'leather', 'yam', 'diya', 'oven', 'shea', 'national', 'wow', 'hearts', 'soyfresh', 'himani', 'kawan', 'happilo', 'cell', 'bedekar', 'anodised', 'cottony', 'royalty', 'international', 'liner', 'heaven', 'prakash', 'flora', 'hanepoot', 'poppy', 'bournville', 'idly', 'remo', 'jabsons', 'lusciously', 'monaco', 'peel', 'store', 'wheel', 'condom', 'cluster', 'pharmacy', 'prov', 'hajmola', 'sakthi', 'bacterial', 'buns', 'sweetener', 'panty', 'mannat', 'puja', 'wear', 'gums', 'charms', 'chivda', 'orgran', 'alcoholic', 'oxygen', 'mexicana', 'wood', 'tango', 'barbrque', 'watt', 'vegetarian', 'prabhat', 'shades', 'south', 'nomarks', 'lia', 'mangaldeep', 'prime', 'jk', 'victory', 'surprise', 'triolade', 'check', 'nonstick', 'chemical', 'wiper', 'barbie', 'butternut', 'ondago', 'ridge', 'blush', 'enrich', 'dhoop', 'kabeer', 'lips', 'hybrid', 'charcoal', 'fighter', 'island', 'marshmallow', 'nayasa', 'bright', 'economy', 'sunrise', 'ony', 'pellets', 'elbow', 'hotheads', 'lotte', 'shrikhand', 'bhog', 'hari', 'shishu', 'shaze', 'rustic', 'falooda', 'pk', 'fanta', 'daim', 'oils', 'baguette', 'mousse', 'bodyfit', 'defence', 'chicco', 'meswak', 'havmor', 'shield', 'maaza', 'scent', 'styling', 'jovan', 'tiffin', 'waffles', 'rim', 'agni', 'hibiscus', 'khadi', 'flavours', 'ladies', 'starch', 'grekyo', 'tongue', 'mlesna', 'satyam', 'kadai', 'oily', 'craft', 'moms', 'extracts', 'figs', 'chocochips', 'clicknseal', 'noi', 'vitro', 'vati', 'pacari', 'shimla', 'chhole', 'compact', 'interiors', 'selpak', 'murginns', 'layerr', 'meera', 'freezer', 'kvg', 'marigold', 'puffed', 'munkebo', 'bold', 'hara', 'achar', 'aristo', 'druk', 'bottles', 'madras', 'pollution', 'grisbi', 'tenderloin', 'gluco', 'brylcreem', 'wit', 'pia', 'tikki', 'activ+', 'keema', 'society', 'duty', 'sardarmeat', 'hydra', 'mozzarella', 'farmlite', 'blade', 'chow', 'andhra', 'phenyle', 'mathri', 'kesari', 'parleg', 'baker', 'play', 'nylon', 'freshmatic', 'breaded', 'holder', 'faber', 'lean', 'chitkabra', 'lamp', 'sarrisi', 'dhokla', 'acne', 'grb', 'theobrama', 'knives', 'p', 'every', 'girnar', 'rexona', 'president', 'complexion', 'cibaca', 'wave', 'caster', 'elly', 'amritsari', 'morello', 'bleu', 'force', 'bun', 'root', 'darkest', 'hairoil', 'avon', 'paraman', 'kashmir', 'animal', 'oriental', 'precision', 'breed', 'kalonji', 'twigs', 'cakemix', 'dicing', 'shot', 'handsome', 'patches', 'manna', 'castell', 'sardines', 'machine', 'colocasia', 'rectangular', 'bloody', 'vaporizer', 'sundae', 'rasoi', 'ezycook', 'serves', 'gemini', 'jovees', 'rye', 'ki', 'coke', 'inches', 'rohu', 'anmol', 'thousand', 'mad', 'masuri', 'cupasoup', 'indias', 'mpm', 'impact', 'units', 'germi', 'brooke', 'bone', 'juicy', 'elegance', 'pencil', 'guruji', 'elephant', 'mentos', 'balaji', 'avelia', 'skittle', 'recharge', 'ayam', 'snow', 'princess', 'donald', 'kleen', 'livon', 'nihari', 'pa', 'enriched', 'meethi', 'smiles', 'vaporub', 'cooling', 'ultimate', 'marinades', 'show', 'schezwaan', 'kama', 'sutra', 'dukes', 'romaine', 'mambalam', 'arya', 'pudding', 'accessories', 'aromatic', 'baskin', 'anytime', 'mayo', 'republic', 'bikaneri', 'stand', 'biscuitssunfeast', 'tripack', 'yogi', 'tronc', 'stix', 'line', 'mirchi', 'cat', 'stunning', 'xxxl', 'luncheon', 'sunsweet', 'steelo', 'boys', 'mouse', 'hills', 'carving', 'game', 'kansal', 'cap', 'murraba', 'toe', 'snaps', 'concentrate', 'unfiltered', 'hygienic', 'sil', 'brand', 'lively', 'fajita', 'lobia', 'kasuri', 'parwal', 'deodrant', 'potatoes', 'cassia', 'celebration', 'jain', 'shikakai', 'candle', 'mukhwas', 'beautiful', 'moov', 'badshah', 'eclairs', 'smith', 'reduction', 'smoothie', 'aquafina', 'rasgulla', 'cavinkare', 'chewy', 'sizzlin', 'multani', 'forever', 'satvikk', 'goli', 'future', 'morton', 'chopping', 'girls', 'joyo', 'cough', 'clip', 'chukde', 'mirinda', 'brezel', 'xlarge', 'isabgol', 'roopak', 'pvt', 'ltd', 'dear', 'premix', 'antibacteria', 'bubble', 'dagestive', 'landtaler', 'shoeshine', 'strolley', 'avakaya', 'overnight', 'korma', 'diabetes', 'chole', 'dhaniya', 'diwali', 'pointed', 'dispenser', 'pachak', 'mens', 'vienna', 'spirali', 'finish', 'frooti', 'abf', 'aval', 'induction', 'peppy', 'claw', 'snake', 'stevia', 'perk', 'dvc', 'solid', 'churna', 'jack', 'schoko', 'leo', 'eau', 'linc', 'saaj', 'akharot', 'bagged', 'straw', 'crown', 'wintercool', 'shahjeera', 'horeca', 'prinzess', 'dogspot', 'copper', 'modern', 'ashoka', 'nike', 'sizzle', 'minced', 'milly', 'tukda', 'champs', 'robbins', 'lake', 'penanut', 'lijjat', 'bynature', 'ml+', 'bruschetta', 'kheer', 'giri', 'namak', 'spark', 'nycil', 'edition', 'storm', 'chops', 'burst', 'neelam', 'zig', 'zag', 'buffet', 'dash', 'dhampur', 'focaccia', 'choc', 'tricolor', 'ding', 'clubhouse', 'colin', 'chabaa', 'denver', 'misty', 'hodgson', 'peppercorns', 'cfl', 'painter', 'organica', 'winterfrost', 'coil', 'uncle', 'bulb', 'singh', 'chandrika', 'slicing', 'selection', 'cookwell', 'teja', 'xpress', 'proglide', 'chew', 'dev', 'chhundo', 'maska', 'boondi', 'mortadella', 'till', 'poptarts', 'casserole', 'pamper', 'renewal', 'salon', 'fight', 'dalchini', 'sourdough', 'bons', 'ciabatta', 'appalam', 'darshan', 'cashewnuts', 'kharik', 'bloo', 'youth', 'elite', 'volume', 'pickwick', 'deveined', 'toptotoe', 'fik', 'packet', 'pralines', 'ensure', 'agnesi', 'saag', 'pp', 'nirlon', 'dubraj', 'nourishment', 'alf', 'tampons', 'semi', 'halwa', 'laddu', 'crawling', 'ayusya', 'choi', 'appetit', 'whittard', 'legs', 'r', 'lurpak', 'ram', 'maxx', 'kiddos', 'pasteurized', 'hotdog', 'robin', 'divya', 'santra', 'globe', 'keo', 'karpin', 'us', 'kgs', 'badi', 'crumb', 'liril', 'muffins', 'buzz', 'calories', 'aura', 'oxo', 'beige', 'edt', 'tibar', 'strength', 'waxing', 'pleasure', 'sensual', 'chitale', 'conditioning', 'osmania', 'xx', 'barilla', 'springs', 'acacia', 'nh', 'goldiee', 'naked', 'licorice', 'prickly', 'farrell', 'eveready', 'tisanes', 'gnb', 'peruvian', 'metro', 'oleev', 'latte', 'vegit', 'mirror', 'madhur', 'safewash', 'spout', 'wrinkle', 'sahyas', 'hydrating', 'orchard', 'ramson', 'laces', 'bee', 'beeta', 'avatar', 'spotzero', 'lama', 'crunchiest', 'coccinia', 'jojoba', 'aid', 'dive', 'vivo', 'rash', 'tandul', 'bristles', 'glenand', 'per', 'similac', 'vajradanti', 'marble', 'nupur', 'pa++', 'libero', 'heal', 'bg', 'medicine', 'richfeel', 'dermoviva', 'foundation', 'miltop', 'classmate', 'lozenges', 'voila', 'tulip', 'asparagus', 'vigo', 'spin', 'boro', 'feast', 'xg', 'loin', 'khaman', 'fast', 'nirapara', 'gatsby', 'heracles', 'chilled', 'stems', 'oetker', 'bhendi', 'hydration', 'awaleha', 'based', 'roland', 'freshmint', 'senses', 'crumbs', 'professional', 'jw', 'jim', 'moti', 'flavorz', 'surti', 'dinshaw', 'clock', 'presto', 'gojiberries', 'wedges', 'saundarya', 'dautore', 'kitkat', 'j', 'qua', 'napkeens', 'pakodi', 'sprinklies', 'granules', 'rigati', 'fuji', 'vanaspati', 'princes', 'ear', 'sardar', 'vikaspuri', 'digesto', 'jindal', 'cherrios', 'thokku', 'spell', 'appy', 'meadows', 'type', 'reliance', 'intimate', 'angles', 'varaichi', 'uva', 'eyeconic', 'flushmatic', 'bears', 'rani', 'violet', 'pages', 'rajdhani', 'aswini', 'moksh', 'h', 'caoco', 'gustora', 'chaska', 'cello', 'blackhead', 'sugarplay', 'ladoo', 'local', 'xs', 'rings', 'hmt', 'pronto', 'classe', 'lintelligent', 'glucon', 'chammanthi', 'stiffener', 'pareils', 'cakemate', 'tabs', 'beard', 'flexibility', 'kuttu', 'petals', 'bhuira', 'turn', 'radhika', 'global', 'dandruf', 'passionberry', 'hyderabadi', 'mystic', 'oxy', 'pulav', 'seventh', 'giloy', 'revitalizing', 'charge', 'mao', 'rindless', 'lacto', 'regenerist', 'nachini', 'amchoor', 'krack', 'eyeliner', 'centre', 'mulberry', 'argan', 'sorbet', 'cain', 'streax', 'artisan', 'secrets', 'unpasteurized', 'sitaphal', 'burfi', 'haleem', 'aumfresh', 'karahi', 'rro', 'aerosol', 'cothas', 'pickles', 'sriracha', 'parampara', 'nx', 'mumbai', 'clearing', 'kaviraj', 'kdd', 'bodylicious', 'winner', 'payasam', 'barbecue', 'bengali', 'born', 'sleek', 'polson', 'thandai', 'bay', 'trend', 'soupy', 'indica', 'grenera', 'chandra', 'nibbles', 'chews', 'mace', 'diameter', 'absorbent', 'ideas', 'meatwale', 'lace', 'rounder', 'micro', 'types', 'melties', 'degree', 'genteel', 'broadbean', 'kepra', 'deodorizer', 'fevicol', 'khalis', 'gems', 'semisweet', 'nonpareils', 'jolen', 'surabhi', 'maped', 'mygreens', 'masterblaster', 'jalapenos', 'casanova', 'spiderman', 'crt', 'bblunt', 'uvb', 'jamguri', 'lollypop', 'catla', 'yumlane', 'rangoli', 'carefree', 'paso', 'draksh', 'flawless', 'connoisseurs', 'starz', 'rollon', 'laxmi', 'irish', 'bell', 'iodex', 'sundried', 'priyagold', 'chives', 'kanda', 'flavoure', 'anil', 'gmsarya', 'uht', 'supari', 'iceberg', 'york', 'hungarian', 'gelato', 'electric', 'trisa', 'beet', 'mutter', 'charminar', 'anardana', 'doy', 'balsamic', 'boy', 'uttam', 'handmade', 'tadaa', 'acti', 'pillow', 'shubhkart', 'bhut', 'naturesmith', 'crunchies', 'pou', 'chong', 'bajji', 'calamine', 'duet', 'yakhni', 'goana', 'sharp', 'pore', 'bottom', 'krazy', 'amaranthus', 'energizing', 'batteries', 'mysterious', 'tumbler', 'cif', 'lapsi', 'end', 'mithai', 'tic', 'marine', 'tai', 'icecrem', 'granarolo', 'toffees', 'iced', 'madhi', 'center', 'creations', 'shengdana', 'choconut', 'iodized', 'bhuna', 'kacchi', 'lovers', 'margo', 'teddy', 'urge', 'gloves', 'aplamchaplam', 'moringa', 'sevai', 'accuchek', 'devaaya', 'bertolli', 'swarna', 'smoothing', 'charlies', 'cuppa', 'tangerine', 'team', 'bottel', 'dizzle', 'whipping', 'churan', 'suran', 'deliciously', 'drain', 'udon', 'provoke', 'morsels', 'cik', 'dalda', 'streaky', 'ph', 'puffcorn', 'thermal', 'zoe', 'monet', 'joint', 'panda', 'caesar', 'purely', 'pampering', 'mehendi', 'teabox', 'ray', 'petroleum', 'innovision', 'gourmia', 'ujala', 'klf', 'chikoo', 'batras', 'frankfurters', 'hygiene', 'murmure', 'yakult', 'choclairs', 'shandage', 'rio', 'playboy', 'gauva', 'babeque', 'kiran', 'mungaphali', 'oxford', 'airwick', 'glowing', 'kress', 'superlite', 'bc', 'firming', 'artichoke', 'antiageing', 'spreadable', 'precut', 'scarlet', 'polo', 'meatigo', 'walker', 'lever', 'germicheck', 'shenga', 'upto', 'kavisha', 'ganga', 'greensense', 'trishul', 'vwash', 'babylips', 'ob', 'canesugar', 'vitality', 'sapota', 'branded', 'fab', 'czar', 'stylist', 'kababs', 'seaweed', 'oyster', 'choostix', 'filtered', 'fancy', 'morarka', 'cooked', 'frey', 'maha', 'nigella', 'delicius', 'bodywash', 'candles', 'offer', 'dynamic', 'count', 'masterchefs', 'gentleman', 'wallet', 'dudhi', 'pick', 'charlie', 'chocolaty', 'pongal', 'amulya', 'doqtar', 'case', 'arla', 'error', 'mehandi', 'factory', 'nursing', 'beef', 'krakauer', 'mamypoko', 'inshell', 'halls', 'americana', 'doi', 'mandarin', 'nirma', 'additive', 'crackle', 'buck', 'wheyfer', 'rub', 'udid', 'arcor', 'meatball', 'ragu', 'florets', 'murukku', 'teamonk', 'traders', 'roots', 'sardara', 'mount', 'band', 'greisinger', 'colored', 'franks', 'calorie', 'volini', 'outer', 'mascara', 'naturobell', 'ongs', 'relax', 'system', 'inner', 'ciba', 'marinade', 'kebap', 'subhann', 'hariyali', 'authentic', 'deepak', 'dexolac', 'clay', 'macarons', 'parimal', 'hockey', 'screen', 'beanies', 'chatpatta', 'tastilo', 'lokwan', 'freshwrapp', 'sunblock', 'pa+++', 'ishtam', 'pretty', 'wso', 'pride', 'dozen', 'jiva', 'katori', 'confitures', 'batti', 'bikaji', 'tify', 'forgotten', 'fishermans', 'friend', 'pitambari', 'spruce', 'axiom', 'ankur', 'vsr', 'handi', 'workout', 'bi', 'liners', 'league', 'naphthalene', 'jal', 'alu', 'hamam', 'seasons', 'hem', 'ustad', 'banne', 'nawabs', 'tips', 'starchik', 'sarson', 'arugula', 'rawas', 'lalbag', 'ss', 'filone', 'foco', 'flexi', 'udupi', 'shots', 'button', 'rajgira', 'arctic', 'baxters', 'mawana', 'bharta', 'rejuvenation', 'hindalco', 'tease', 'staff', 'glycerin', 'bhopla', 'speciality', 'space', 'sarwar', 'bishops', 'weeds', 'coral', 'gebi', 'limca', 'shiny', 'avedana', 'parry', 'tac', 'queen', 'scents', 'manish', 'spezial', 'tip', 'tapioca', 'habit', 'bigen', 'nihar', 'thigh', 'device', 'kick', 'divine', 'lift', 'oval', 'okf', 'nova', 'camp', 'perfection', 'champ', 'jolokia', 'mrs', 'glutenfree', 'bauli', 'avent', 'bikanervala', 'charming', 'pasteurised', 'chifferi', 'canfiteria', 'homestyle', 'multiflora', 'acid', 'pina', 'robinsons', 'excite', 'packaged', 'cc', 'baronia', 'contura', 'antihairfall', 'bhagyalakshmi', 'sirona', 'reggia', 'aramusk', 'peda', 'ponni', 'scrubz', 'kr', 'signoraware', 'purity', 'hiluxe', 'carrots', 'fahad', 'last', 'nougat', 'sparkle', 'ribbed', 'hairpin', 'vcare', 'phenyl', 'creamer', 'sided', 'srinathjis', 'gouda', 'buttery', 'zuci', 'snapple', 'nachani', 'karmas', 'mii', 'patti', 'afghani', 'rapid', 'school', 'booster', 'macadamias', 'milkybar', 'shami', 'sauna', 'showered', 'arabian', 'bounce', 'kelp', 'rk', 'design', 'ordinary', 'sugran', 'paone', 'point', 'familia', 'cheesecake', 'ib', 'hospitality', 'squid', 'camphor', 'lazeez', 'milkshake', 'proburst', 'notebook', 'streak', 'dento', 'mathaniya', 'icy', 'reetha', 'vinod', 'concentrated', 'replenish', 'lahori', 'amrud', 'bheem', 'sodium', 'homefoil', 'bs', 'angoor', 'kare', 'wildstone', 'gmseco', 'gm+', 'farex', 'falero', 'liberty', 'belly', 'tamil', 'designer', 'dia', 'iodised', 'chicory', 'wraps', 'rep', 'sipper', 'drum', 'acno', 'technology', 'chiplets', 'ha', 'antioxidants', 'bacteria', 'khichdi', 'texas', 'fesh', 'floss', 'magaj', 'deviened', 'marvellous', 'antiaging', 'cowpathy', 'nutralite', 'fresca', 'healthcare', 'grip', 'getting', 'turai', 'chocolat', 'boroplus', 'juzt', 'percent', 'campbells', 'shaped', 'enchante', 'grilled', 'softener', 'confidence', 'jug', 'mushrooms', 'beaten', 'fire', 'ow', 'skk', 'mature', 'rossogulla', 'rogue', 'bandaid', 'gripe', 'multivitamin', 'orginal', 'shadow', 'essences', 'strip', 'swabs', 'safed', 'badami', 'gol', 'camay', 'wella', 'calvo', 'whip', 'xml', 'neutral', 'gawar', 'hanger', 'nappy', 'gmspro', 'dhana', 'puttu', 'addict', 'sounf', 'luck', 'bhringraj', 'prewashed', 'raji', 'valor', 'desire', 'juices', 'festive', 'gandour', 'delishus', 'misti', 'totapuri', 'bikis', 'kasoori', 'make', 'khara', 'yumitos', 'lauki', 'patchouli', 'katli', 'melody', 'usa', 'heads', 'vatana', 'globus', 'kheera', 'gmssanjeevani', 'sssilverware', 'portions', 'sensation', 'leeks', 'remedy', 'shilajit', 'wheatgrass', 'saucery', 'pkt', 'samba', 'nariyal', 'superthin', 'creaseless', 'freshee', 'adventure', 'salty', 'balancing', 'gubb', 'inhaler', 'adhesive', 'jerky', 'substitute', 'cats', 'jones', 'protin', 'deco', 'annapurna', 'mawa', 'satinance', 'healing', 'tope', 'peeth', 'healthkart', 'antiperspirant', 'hr', 'gou', 'female', 'suave', 'dadiwala', 'pudin', 'closeup', 'poly', 'denta', 'fluid', 'cutter', 'voyage', 'tartare', 'citronella', 'lucknow', 'envy', 'falcon', 'udad', 'cone', 'pansari', 'mangat', 'halal', 'tutti', 'delhi', 'shotz', 'enamel', 'pepperoni', 'squeezo', 'aveeno', 'margosa', 'lomani', 'pass', 'floroma', 'elina', 'duster', 'disinfecting', 'britania', 'makeup', 'roller', 'ointment', 'handy', 'valencia', 'beelicious', 'delinut', 'flowers', 'lehar', 'brioche', 'agarbattis', 'melamine', 'sprinkler', 'vertical', 'giant', 'cavins', 'bura', 'anchor', 'rajasthani', 'hartleys', 'miss', 'assortment', 'damaged', 'ambika', 'save', 'gujarati', 'dual', 'pretzels', 'lasooni', 'automatic', 'kiss', 'angel', 'mania', 'norwegian', 'disha', 'lahsun', 'cashewnut', 'masur', 'wrapping', 'sticky', 'miaow', 'kinnaur', 'samrat', 'manama', 'ultradry', 'open', 'misri', 'wagga', 'dranex', 'nandos', 'jus', 'vimal', 'australian', 'sakas', 'naughty', 'drumsticks', 'dye', 'weetabix', 'euro', 'release', 'layer', 'matka', 'panch', 'nonveg', 'vc', 'serve', 'masale', 'scented', 'clarifying', 'elbows', 'au', 'airtight', 'cheeslings', 'fatima', 'olicoop', 'khada', 'thali', 'intensity', 'z', 'vasireddy', 'swagruha', 'aabad', 'film', 'coin', 'lavendar', 'alpen', 'certified', 'lightly', 'grated', 'mitti', 'yummies', 'diffuser', 'ms', 'transparent', 'honitus', 'anticavity', 'camlin', 'flexball', 'akhrot', 'squeegee', 'pristine', 'sunshine', 'manjan', 'cham', 'shimmer', 'radiant', 'sheer', 'provitamin', 'dustbin', 'tastys', 'use', 'antibacterial', 'noni', 'coloured', 'stik', 'chakra', 'potion', 'chatka', 'phytotech', 'portion', 'sweetened', 'gingelly', 'reenergize', 'anoushka', 'distil', 'pens', 'parker', 'reserve', 'currycut', 'emmi', 'ash', 'herring', 'roop', 'repairing', 'alo', 'gullon', 'parfum', 'ramirez', 'tulasi', 'dermicool', 'curled', 'regos', 'wada', 'bhavnagri', 'munakka', 'polka', 'popping', 'hyderabad', 'aceites', 'grooming', 'chuwara', 'fed', 'mud', 'rejuvenating', 'kerk', 'tripti', 'wonka', 'champa', 'alpino', 'percentage', 'renu', 'gurellu', 'apsara', 'live', 'liquorice', 'beverly', 'iron', 'papadi', 'ina', 'luxurious', 'jungle', 'babool', 'masque', 'bittersweet', 'mark', 'pal', 'kreams', 'buddha', 'tukada', 'station', 'baingan', 'longan', 'lollypops', 'zara', 'polished', 'kastel', 'undi', 'dreaming', 'tondli', 'paperisto', 'lacnor', 'twinkle', 'badishep', 'sandals', 'ravi', 'seb', 'omni', 'thermosteel', 'colors', 'matrix', 'feta', 'fairever', 'glue', 'nutraj', 'hamdard', 'madness', 'sago', 'flaky', 'freedom', 'deseeded', 'pelati', 'chhagan', 'magan', 'wool', 'mass', 'zevic', 'chuchu', 'crazy', 'basic', 'lasting', 'spreadz', 'ras', 'tava', 'griddles', 'jet', 'tape', 'bandhu', 'blissfresh', 'frosty', 'btw', 'gajar', 'tzatziki', 'dinshaws', 'milke', 'maximum', 'woh', 'hup', 'eats', 'bolsts', 'sardine', 'rajmah', 'zago', 'kadhi', 'amulspray', 'vallejo', 'parmesan', 'attraction', 'shaver', 'suguna', 'pedigiree', 'tatva', 'lovin', 'stracciatella', 'amlaan', 'gulkand', 'scissor', 'zuska', 'hp', 'floating', 'primary', 'chamong', 'aging', 'carte', 'fermented', 'card', 'drizzle', 'exclusive', 'toilex', 'bhagirathi', 'flash', 'patanajli', 'ene', 'roti', 'washproof', 'mlprakriti', 'microfiber', 'leafy', 'planters', 'dustpan', 'sheba', 'krrish', 'sat', 'ala', 'q', 'daadis', 'aggarwal', 'spotless', 'goveg', 'memoni', 'arrabbiata', 'ribs', 'silicon', 'bronze', 'revitalising', 'chataka', 'plump', 'navneet', 'barik', 'macroni', 'khajoor', 'seasalt', 'jeevan', 'longsticks', 'memories', 'wish', 'purebrot', 'nutriwish', 'padkhimao', 'hokey', 'pokey', 'tandori', 'code', 'antispot', 'moonfils', 'flex', 'ambari', 'jr', 'sticker', 'win', 'megat', 'bonn', 'nation', 'elachi', 'jackfruit', 'activity', 'upwas', 'magical', 'lil', 'mava', 'luscious', 'withcyclozan', 'somya', 'mixmtr', 'zing', 'jlt', 'clips', 'maverick', 'vice', 'devan', 'gmsbhuira', 'leche', 'jaya', 'mandarian', 'nafees', 'gmsphalada', 'kolhapuri', 'goodlife', 'midnight', 'anoos', 'heel', 'sciences', 'aquamarine', 'olitalia', 'amber', 'cordial', 'colmans', 'grissini', 'wholefood', 'barbican', 'awe', 'chandu', 'nirmal', 'rajam', 'personal', 'parrys', 'rex', 'enfamil', 'ahaar', 'medela', 'yelakki', 'engine', 'quills', 'smoky', 'scotchbrite', 'wottagirl', 'momo', 'lasagne', 'gmssos', 'gurgaon', 'gulluoglu', 'meatballs', 'kharata', 'chrome', 'turnip', 'muscleblaze', 'sabja', 'nimbooz', 'soumya', 'pooja', 'whiteglow', 'frugurt', 'sanifresh', 'kgeco', 'kailas', 'bergen', 'bansi', 'woodwards', 'bits', 'spfpa++', 'sugarr', 'agmark', 'ks', 'trust', 'dolphin', 'height', 'nhb', 'godhum', 'dare', 'kalakand', 'sagar', 'softgels', 'climate', 'truly', 'apriscrub', 'alfalfa', 'cleanse', 'quail', 'spary', 'sw', 'eze', 'norwegin', 'regal', 'nutro', 'cho', 'indispice', 'mulshi', 'cracked', 'shah', 'externa', 'sinful', 'nutrilicious', 'galca', 'twister', 'chaman', 'frangipani', 'anodized', 'chorizo', 'crayons', 'hearty', 'ratlami', 'collar', 'breadliner', 'copra', 'spirit', 'sweetcorn', 'hitkary', 'macho', 'kasturi', 'intens', 'longstick', 'protecting', 'babycare', 'gongura', 'professionnel', 'fix', 'arbi', 'galangal', 'planter', 'girl', 'eeshha', 'woolens', 'desiam', 'ber', 'vasmol', 'sunlight', 'specialist', 'dink', 'restage', 'cee', 'jackson', 'petits', 'memory', 'aquafresh', 'annapoorna', 'ricebran', 'hiking', 'doyen', 'cesar', 'pedicure', 'ojas', 'luvit', 'sonaka', 'bullet', 'xxmm', 'aakash', 'amrit', 'mildly', 'rosso', 'rope', 'swarnakshree', 'doll', 'aftershower', 'multigrains', 'kairi', 'ross', 'infinity', 'mooz', 'tirupati', 'permanent', 'marker', 'lopera', 'lifebouy', 'kapiva', 'bhath', 'frut', 'gahu', 'krunch', 'sunday', 'granite', 'punjab', 'rajwadi', 'sheek', 'garcinia', 'pellegrino', 'madam', 'devee', 'mangharam', 'cars', 'kennel', 'mahogany', 'sprinkled', 'dum', 'adjustable', 'vintage', 'navrattan', 'thumbs', 'thumbsup', 'brain', 'gir', 'hudson', 'indulekha', 'garlicbread', 'cleaned', 'soppu', 'wizz', 'pietro', 'ripe', 'agarbathis', 'bemisal', 'runaway', 'anjalika', 'tikha', 'gritties', 'vedica', 'keri', 'imitation', 'sink', 'kotex', 'spli', 'chickpea', 'aakha', 'tough', 'amira', 'belgain', 'synthetic', 'reynolds', 'colada', 'brazilian', 'pantyliner', 'chawal', 'diyas', 'mid', 'bare', 'tall', 'peristaltic', 'chhedas', 'lube', 'chocolte', 'kabhi', 'masalas', 'krishnas', 'treo', 'cloud', 'compound', 'cranbery', 'woods', 'bakes', 'guavas', 'senior', 'gmsnavadarshanam', 'safari', 'basso', 'flo', 'glide', 'namboodiris', 'source', 'swastik', 'endura', 'nachoz', 'strategi', 'spawake', 'speed', 'goodricke', 'origins', 'ace', 'sarso', 'shells', 'two', 'naturmeds', 'waffy', 'odopic', 'carrie', 'extended', 'resist', 'stool', 'zipouch', 'vedshakti', 'choko', 'pillar', 'haringhata', 'adiction', 'hawaiian', 'hen', 'pd', 'gumcare', 'gs', 'bf', 'petha', 'abjosh', 'kofta', 'tim', 'colours', 'buddy', 'urbane', 'foster', 'clarks', 'kanan', 'expertise', 'jabs', 'happydent', 'tight', 'alwar', 'meadow', 'chiroti', 'makers', 'kela', 'zwan', 'raita', 'crack', 'dunar', 'sunth', 'agrawals', 'wicks', 'paan', 'miri', 'ben', 'friends', 'thats', 'panipuri', 'superchunk', 'barfi', 'provilac', 'badhusha', 'morris', 'paarmans', 'frost', 'discovery', 'matta', 'butterfly', 'coricelli', 'outdoor', 'enchanteur', 'gobhi', 'shri', 'reshmi', 'liter', 'cartton', 'casual', 'tricolore', 'wal', 'sip', 'nali', 'terry', 'sp', 'protective', 'guylian', 'jo', 'rajkot', 'kills', 'tempt', 'tejus', 'taila', 'hansaplast', 'voortman', 'cockroaches', 'reliever', 'dtox', 'nutriorg', 'worth', 'flame', 'dlecta', 'chota', 'unpolish', 'longlasting', 'beads', 'candyman', 'hellmans', 'nirvana', 'odourless', 'flaxseeds', 'hndpond', 'professionals', 'gur', 'knol', 'khol', 'tile', 'gnbl', 'net', 'suree', 'goldbar', 'pate', 'roohafza', 'bb+', 'wt', '++', 'kp', 'tamrind', 'removing', 'mos', 'kefir', 'lg', 'protector', 'butler', 'portuguese', 'reebok', 'tinda', 'lalas', 'eliminating', 'pout', 'dhal', 'anjali', 'sahiba', 'stamina', 'gainda', 'puliogare', 'mauve', 'tandool', 'peeloff', 'tomyum', 'javitri', 'oraganic', 'rafael', 'salgado', 'herrings', 'varikatri', 'goodness', 'shrimps', 'gobind', 'petspot', 'godya', 'nestea', 'costas', 'sweta', 'wildberry', 'raan', 'pakoda', 'pour', 'groove', 'skies', 'patla', 'pantyliners', 'saravanas', 'oclock', 'krishna', 'quiche', 'chamria', 'lalahs', 'anik', 'sabor', 'continental', 'polenta', 'maroon', 'swadeshi', 'kichdi', 'remia', 'chillies', 'scallops', 'matter', 'rajbhog', 'maxo', 'flav', 'medicated', 'dreams', 'reed', 'dura', 'planet', 'buttons', 'charm', 'mahi', 'enliven', 'haridarshan', 'enso', 'contact', 'sensor', 'goda', 'abandon', 'rogan', 'pockets', 'antihair', 'momos', 'pastallio', 'icon', 'mediker', 'packed', 'warm', 'window', 'bel', 'riso', 'spare', 'hathi', 'solar', 'fevi', 'complementary', 'ayurslim', 'dhampure', 'aceto', 'stardrops', 'punnet', 'kismi', 'pencils', 'deans', 'menz', 'magnets', 'kaddu', 'naturo', 'crompton', 'heeng', 'shirin', 'caraway', 'dutch', 'charoli', 'solemio', 'namjai', 'british', 'fettuccine', 'softouch', 'thumps', 'flexible', 'kipper', 'hens', 'gmsvedantika', 'lollo', 'ones', 'organik', 'relispray', 'granoro', 'barista', 'living', 'condensed', 'mlneev', 'pyaz', 'keggs', 'meet', 'lolly', 'teaveda', 'manpasand', 'duralock', 'highland', 'fragrances', 'hidden', 'rasbhari', 'dor', 'montanini', 'ats', 'bourn', 'kamlesh', 'spigadoro', 'jiwa', 'waxed', 'yeos', 'kpl', 'feminine', 'toykraft', 'pichkoo', 'cambogia', 'janma', 'bearberry', 'weissmill', 'roach', 'cones', 'munchies', 'bunny', 'villars', 'tupperware', 'agarbathies', 'peacock', 'kikkoman', 'nutrigloss', 'shalimar', 'jamb', 'ozone', 'fruitplus', 'gain', 'coils', 'paradise', 'illuminating', 'maxcare', 'makka', 'gomiti', 'status', 'animals', 'chiko', 'karare', 'honeydabur', '+++', 'linen', 'goan', 'arad', 'birds', 'guggulu', 'schwarzkopf', 'hic', 'youthful', 'shepu', 'door', 'glam', 'youthrx', 'flaberry', 'prutina', 'twf', 'sendha', 'minutes', 'triguni', 'inox', 'ullas', 'gp', 'colossal', 'even', 'kerala', 'kundan', 'utsav', 'young', 'clarus'])\n"
     ]
    }
   ],
   "source": [
    "DICT_SIZE = 5000\n",
    "WORDS_TO_INDEX = {j[0]:i for i,j in enumerate(sorted(words_counts.items(), key=lambda x: x[1], reverse=True)[:DICT_SIZE])}\n",
    "INDEX_TO_WORDS = {i:j[0] for i,j in enumerate(sorted(words_counts.items(), key=lambda x: x[1], reverse=True)[:DICT_SIZE])}\n",
    "ALL_WORDS = WORDS_TO_INDEX.keys()\n",
    "print(ALL_WORDS)\n",
    "def my_bag_of_words(text, words_to_index, dict_size):\n",
    "    \"\"\"\n",
    "        text: a string\n",
    "        dict_size: size of the dictionary\n",
    "        \n",
    "        return a vector which is a bag-of-words representation of 'text'\n",
    "    \"\"\"\n",
    "    result_vector = np.zeros(dict_size)\n",
    "    keys= [words_to_index[i] for i in text.split(\" \") if i in words_to_index.keys()]\n",
    "    result_vector[keys]=1\n",
    "    return result_vector"
   ]
  },
  {
   "cell_type": "markdown",
   "metadata": {},
   "source": [
    "#### Transform each element of labels to dictionary and than pass it to multilabelbinarizer"
   ]
  },
  {
   "cell_type": "code",
   "execution_count": 7,
   "metadata": {},
   "outputs": [
    {
     "data": {
      "text/plain": [
       "(575907, 385)"
      ]
     },
     "execution_count": 7,
     "metadata": {},
     "output_type": "execute_result"
    }
   ],
   "source": [
    "Y = [set(i.split(',')) for i in Y]\n",
    "mlb= MultiLabelBinarizer()\n",
    "mlb.fit(Y)\n",
    "\n",
    "# transform target variable\n",
    "y = mlb.transform(Y)\n",
    "y.shape"
   ]
  },
  {
   "cell_type": "markdown",
   "metadata": {},
   "source": [
    "####  Split the dataset into train and test using 70-30 split ratio"
   ]
  },
  {
   "cell_type": "code",
   "execution_count": 8,
   "metadata": {},
   "outputs": [],
   "source": [
    "x_train, x_test, y_train, y_test = train_test_split(X, y, test_size=0.3, random_state=20)"
   ]
  },
  {
   "cell_type": "code",
   "execution_count": 9,
   "metadata": {},
   "outputs": [
    {
     "data": {
      "text/plain": [
       "array(['absorber', 'accessories', 'adult', 'aerated', 'agents',\n",
       "       'agricultural', 'aid', 'air', 'almonds', 'aluminium',\n",
       "       'antiprespirants', 'antiseptics', 'appalam', 'appliances',\n",
       "       'artificial', 'asterigents', 'atta', 'aval', 'avalakki',\n",
       "       'ayurvedic', 'baby', 'badam', 'bags', 'bajra', 'bakery', 'baking',\n",
       "       'balls', 'balm', 'bar', 'barley', 'bars', 'base', 'basmati',\n",
       "       'bath', 'bathing', 'bathroom', 'batteries', 'battery', 'beaten',\n",
       "       'bengal', 'besan', 'beverages', 'bhaji', 'biscuits', 'blades',\n",
       "       'bleach', 'blended', 'body', 'boiled', 'bottle', 'bran', 'branded',\n",
       "       'bread', 'breakfast', 'broom', 'brush', 'brushes', 'bun', 'butter',\n",
       "       'cake', 'camphor', 'candles', 'canned', 'canola', 'car', 'care',\n",
       "       'cashewnuts', 'cashews', 'casserole', 'cat', 'ceiling', 'cereals',\n",
       "       'chana', 'channa', 'cheese', 'chewing', 'chicken', 'chikki',\n",
       "       'chips', 'chocolate', 'cleaner', 'cleaners', 'cleaning',\n",
       "       'cleanser', 'cleansing', 'cling', 'cocoa', 'coconut', 'coffee',\n",
       "       'cold', 'color', 'colour', 'compact', 'concentrates', 'condensed',\n",
       "       'condiments', 'conditioner', 'confectionery', 'cookies', 'cooking',\n",
       "       'coolers', 'corn', 'cosmetics', 'crackers', 'cream', 'crush',\n",
       "       'dairy', 'dal', 'dates', 'dental', 'deodorants', 'desi', 'dessert',\n",
       "       'desserts', 'detergent', 'diapers', 'digestives', 'dinner',\n",
       "       'dishwash', 'disposable', 'dog', 'drain', 'dried', 'drinks',\n",
       "       'drugs', 'dry', 'dust', 'duster', 'dye', 'edible', 'eggs',\n",
       "       'energy', 'exfoliators', 'eye', 'fabric', 'face', 'facial', 'fans',\n",
       "       'feeding', 'filter', 'first', 'fish', 'flakes', 'flask',\n",
       "       'flattened', 'floor', 'floss', 'flossers', 'flour', 'flours',\n",
       "       'foam', 'foil', 'food', 'foundation', 'fragrance', 'free', 'fresh',\n",
       "       'freshener', 'fresheners', 'frozen', 'fruit', 'fruits', 'fryums',\n",
       "       'furniture', 'garbage', 'gel', 'ghee', 'gift', 'gingelly', 'glass',\n",
       "       'gram', 'grocery', 'ground', 'groundnut', 'gum', 'hair', 'hand',\n",
       "       'health', 'healthcare', 'highlights', 'home', 'honey',\n",
       "       'ingredients', 'insect', 'insecticides', 'instant',\n",
       "       'international', 'jaggery', 'jam', 'jau', 'jug', 'juices', 'kaju',\n",
       "       'kismis', 'kit', 'kitchen', 'kitchenware', 'lassi', 'lentils',\n",
       "       'lime', 'liner', 'liners', 'lip', 'liquid', 'lotion', 'luggage',\n",
       "       'makeup', 'mango', 'manicure', 'masala', 'mask', 'masoor',\n",
       "       'massage', 'masur', 'matchboxes', 'mayonnaise', 'meal', 'medical',\n",
       "       'medicines', 'milk', 'millet', 'mixed', 'mixes', 'mixture',\n",
       "       'moisture', 'moisturiser', 'moisturizer', 'mosquito', 'mouth',\n",
       "       'muesli', 'mug', 'multipurpose', 'mustard', 'namkeen', 'napkins',\n",
       "       'napthalene', 'needs', 'nipple', 'nonveg', 'noodles', 'nutrition',\n",
       "       'nuts', 'oat', 'oats', 'oil', 'olive', 'oral', 'organic', 'otc',\n",
       "       'pack', 'pads', 'pain', 'pan', 'panty', 'papad', 'pasta', 'paste',\n",
       "       'pastries', 'pav', 'pedicure', 'pencil', 'perfume', 'personal',\n",
       "       'pest', 'pesticides', 'pet', 'pharmaceuticals', 'phenyl', 'pickle',\n",
       "       'pickles', 'pista', 'pistachios', 'poha', 'polish', 'pomade',\n",
       "       'pooja', 'popcorn', 'powder', 'preserved', 'products', 'pulses',\n",
       "       'raisin', 'rava', 'raw', 'rawa', 'readytocook', 'readytoeat',\n",
       "       'relief', 'removal', 'remover', 'repellent', 'repellents', 'rice',\n",
       "       'roll', 'room', 'rubs', 'rusk', 'salt', 'sanitary', 'sanitizer',\n",
       "       'sauce', 'sauces', 'scrapers', 'scrubber', 'scrubs', 'seafood',\n",
       "       'seasoning', 'seasonings', 'semiya', 'semolina', 'serum', 'sesame',\n",
       "       'set', 'sets', 'shampoo', 'shave', 'shaving', 'sherbat', 'shoe',\n",
       "       'shower', 'showers', 'skin', 'snacks', 'soap', 'soaps', 'socks',\n",
       "       'soda', 'soft', 'softner', 'sooji', 'soup', 'spaghetti', 'spices',\n",
       "       'splash', 'sports', 'spray', 'spreads', 'squash', 'stain',\n",
       "       'staples', 'stationery', 'sticks', 'storage', 'styling', 'sugar',\n",
       "       'suji', 'sunflower', 'supplements', 'supplies', 'sweetener',\n",
       "       'sweets', 'syrups', 'tampons', 'tea', 'teeth', 'til', 'toast',\n",
       "       'toilet', 'tongue', 'tooth', 'toothbrush', 'toothpaste',\n",
       "       'toothpick', 'towel', 'travelling', 'treatments', 'trolley',\n",
       "       'utilities', 'veg', 'vegetables', 'vermicelli', 'wafer', 'wash',\n",
       "       'water', 'wax', 'wellness', 'wheat', 'white', 'whitener',\n",
       "       'whitening', 'whole', 'wipes', 'womens', 'wrap', 'yogurt'],\n",
       "      dtype=object)"
      ]
     },
     "execution_count": 9,
     "metadata": {},
     "output_type": "execute_result"
    }
   ],
   "source": [
    "mlb.classes_"
   ]
  },
  {
   "cell_type": "markdown",
   "metadata": {},
   "source": [
    "#### Bag of words implementation"
   ]
  },
  {
   "cell_type": "code",
   "execution_count": 10,
   "metadata": {},
   "outputs": [
    {
     "name": "stdout",
     "output_type": "stream",
     "text": [
      "x_train shape  (403134, 5000)\n",
      "x_test shape  (172773, 5000)\n"
     ]
    }
   ],
   "source": [
    "x_train_mybag = vstack([csr_matrix(my_bag_of_words(text, WORDS_TO_INDEX, DICT_SIZE)) for text in x_train])\n",
    "x_test_mybag = vstack([csr_matrix(my_bag_of_words(text, WORDS_TO_INDEX, DICT_SIZE)) for text in x_test])\n",
    "print('x_train shape ', x_train_mybag.shape)\n",
    "print('x_test shape ', x_test_mybag.shape)"
   ]
  },
  {
   "cell_type": "markdown",
   "metadata": {},
   "source": [
    "#### Naive bayes model to build classifier"
   ]
  },
  {
   "cell_type": "code",
   "execution_count": 26,
   "metadata": {},
   "outputs": [
    {
     "name": "stdout",
     "output_type": "stream",
     "text": [
      "model done\n",
      "start\n",
      "Wall time: 49.9 s\n"
     ]
    }
   ],
   "source": [
    "\"\"\"\n",
    "NOTE: Hyper-parameter tuniing  to come up with value for c. this is than used in train_classifier\n",
    "hypers = np.arange(0.1, 1.0, 1.1)\n",
    "res = []\n",
    "\n",
    "for h in hypers:\n",
    "    temp_model = train_classifier(x_train_mybag, y_train, C=h)\n",
    "    temp_pred = f1_score(y_test, temp_model.predict(X_test_mybag), average='weighted')\n",
    "    res.append(temp_pred)\n",
    "\"\"\"\n",
    "def train_classifier(x_train, y_train,C=1.0):\n",
    "    \"\"\"\n",
    "      X_train, y_train — training data\n",
    "      \n",
    "      return: trained classifier\n",
    "      \n",
    "    \"\"\"\n",
    "    print(\"start\")\n",
    "    model = MultinomialNB(alpha=1.0)\n",
    "    model = OneVsRestClassifier(model)\n",
    "    model.fit(x_train, y_train)\n",
    "    \n",
    "\n",
    "    return model\n",
    "print(\"model done\")\n",
    "# Linear NLP model using bag of words approach\n",
    "%time classifier_mybag = train_classifier(x_train_mybag, y_train, C=1.0)"
   ]
  },
  {
   "cell_type": "markdown",
   "metadata": {},
   "source": [
    "#### Prediction on hold out dataset"
   ]
  },
  {
   "cell_type": "code",
   "execution_count": 27,
   "metadata": {},
   "outputs": [],
   "source": [
    "y_test_predicted_labels_mybag = classifier_mybag.predict(x_test_mybag)"
   ]
  },
  {
   "cell_type": "code",
   "execution_count": 28,
   "metadata": {},
   "outputs": [],
   "source": [
    "y_test_predicted_labels_mybag[3]\n",
    "mlb.inverse_transform(y_test_predicted_labels_mybag)[3]\n",
    "y_test_predicted_labels_mybag_p = classifier_mybag.predict_proba(x_test_mybag)"
   ]
  },
  {
   "cell_type": "code",
   "execution_count": 29,
   "metadata": {},
   "outputs": [],
   "source": [
    "probability_score=y_test_predicted_labels_mybag_p.max(axis=1)"
   ]
  },
  {
   "cell_type": "code",
   "execution_count": 31,
   "metadata": {},
   "outputs": [
    {
     "name": "stdout",
     "output_type": "stream",
     "text": [
      "Title:\torange fruit juice mantra organic l\n",
      "True labels:\tbeverages,snacks\n",
      "Predicted labels:\tbeverages,snacks\n",
      "\n",
      "\n",
      "Title:\taloevera litchi juice unati ml\n",
      "True labels:\tbeverages,snacks\n",
      "Predicted labels:\tbeverages,snacks,water\n",
      "\n",
      "\n",
      "Title:\tct cinnoman ice breaker g\n",
      "True labels:\tconfectionery,sweets\n",
      "Predicted labels:\tconfectionery,sweets\n",
      "\n",
      "\n"
     ]
    }
   ],
   "source": [
    "y_test_pred_inversed = mlb.inverse_transform(y_test_predicted_labels_mybag)\n",
    "y_test_inversed = mlb.inverse_transform(y_test)\n",
    "for i in range(3):\n",
    "    print('Title:\\t{}\\nTrue labels:\\t{}\\nPredicted labels:\\t{}\\n\\n'.format(\n",
    "        x_test[i],\n",
    "        ','.join(y_test_inversed[i]),\n",
    "        ','.join(y_test_pred_inversed[i])\n",
    "    ))"
   ]
  },
  {
   "cell_type": "code",
   "execution_count": 32,
   "metadata": {},
   "outputs": [
    {
     "data": {
      "text/plain": [
       "0.7241587807458207"
      ]
     },
     "execution_count": 32,
     "metadata": {},
     "output_type": "execute_result"
    }
   ],
   "source": [
    "f1_score(y_test, y_test_predicted_labels_mybag, average=\"micro\")"
   ]
  },
  {
   "cell_type": "code",
   "execution_count": 33,
   "metadata": {},
   "outputs": [
    {
     "name": "stdout",
     "output_type": "stream",
     "text": [
      "Bag-of-words\n",
      "(172773, 385)\n",
      "(172773, 385)\n",
      "functools.partial(<function f1_score at 0x000001AC03319598>, average='macro')\n",
      "<function accuracy_score at 0x000001AC03319268> 0.6776116638595151\n",
      "functools.partial(<function f1_score at 0x000001AC03319598>, average='macro') 0.09332496762194459\n",
      "functools.partial(<function f1_score at 0x000001AC03319598>, average='micro') 0.7241587807458207\n",
      "functools.partial(<function f1_score at 0x000001AC03319598>, average='weighted') 0.8240830258571248\n",
      "functools.partial(<function average_precision_score at 0x000001AC03309AE8>, average='macro') nan\n",
      "functools.partial(<function average_precision_score at 0x000001AC03309AE8>, average='micro') 0.5487588199123377\n",
      "functools.partial(<function average_precision_score at 0x000001AC03309AE8>, average='weighted') nan\n"
     ]
    }
   ],
   "source": [
    "\n",
    "def print_evaluation_scores(y_val, predicted):\n",
    "    f1_score_macro = partial(f1_score,average=\"macro\")\n",
    "    print(f1_score_macro)\n",
    "    f1_score_micro = partial(f1_score,average=\"micro\")\n",
    "    f1_score_weighted = partial(f1_score,average=\"weighted\")\n",
    "    \n",
    "    average_precision_score_macro = partial(average_precision_score,average=\"macro\")\n",
    "    average_precision_score_micro = partial(average_precision_score,average=\"micro\")\n",
    "    average_precision_score_weighted = partial(average_precision_score,average=\"weighted\")\n",
    "    \n",
    "    scores = [accuracy_score,f1_score_macro,f1_score_micro,f1_score_weighted,average_precision_score_macro,\n",
    "             average_precision_score_micro,average_precision_score_weighted]\n",
    "    for score in scores:\n",
    "        print(score,score(y_val,predicted))\n",
    "\n",
    "print('Bag-of-words')\n",
    "print(y_test.shape)\n",
    "print(y_test_predicted_labels_mybag.shape)\n",
    "print_evaluation_scores(y_test, y_test_predicted_labels_mybag)\n",
    "# print('Tfidf')\n",
    "# print_evaluation_scores(y_test, y_test_predicted_labels_tfidf)"
   ]
  },
  {
   "cell_type": "markdown",
   "metadata": {},
   "source": [
    "#### Train classifier on entire training dataset"
   ]
  },
  {
   "cell_type": "code",
   "execution_count": 34,
   "metadata": {},
   "outputs": [],
   "source": [
    "x_mybag = vstack([csr_matrix(my_bag_of_words(text, WORDS_TO_INDEX, DICT_SIZE)) for text in X])\n"
   ]
  },
  {
   "cell_type": "code",
   "execution_count": 35,
   "metadata": {},
   "outputs": [
    {
     "name": "stdout",
     "output_type": "stream",
     "text": [
      "start\n"
     ]
    }
   ],
   "source": [
    "classifier = train_classifier(x_mybag, y, C=1.0)"
   ]
  },
  {
   "cell_type": "code",
   "execution_count": 36,
   "metadata": {},
   "outputs": [
    {
     "name": "stdout",
     "output_type": "stream",
     "text": [
      "('beverages', 'snacks')\n"
     ]
    }
   ],
   "source": [
    "dataset_predicted_labels_mybag = classifier.predict(x_mybag)\n",
    "y_dataset_pred_inversed = mlb.inverse_transform(dataset_predicted_labels_mybag)\n",
    "print(y_dataset_pred_inversed[1])\n",
    "# mlb.inverse_transform(y_test_predicted_labels_mybag)[3]\n",
    "dataset_predicted_labels_mybag_p = classifier.predict_proba(x_mybag)\n",
    "probability_score=dataset_predicted_labels_mybag_p.max(axis=1)\n",
    "\n"
   ]
  },
  {
   "cell_type": "markdown",
   "metadata": {},
   "source": [
    "#### Store entire dataset predictions along with probability scores"
   ]
  },
  {
   "cell_type": "code",
   "execution_count": 40,
   "metadata": {},
   "outputs": [
    {
     "name": "stdout",
     "output_type": "stream",
     "text": [
      "<bound method NDFrame.head of                                                    titles  \\\n",
      "0       britannia nutri choice - hi fibre digestive bi...   \n",
      "1       soya nuts - roasted lime snack - healthy alter...   \n",
      "2             whole mung organic - conscious food - 500 g   \n",
      "3       good knight activ + liquid refill - lavender, ...   \n",
      "4       holy basil (tulsi) honey - healthy alternative...   \n",
      "5       instant espresso freeze dried coffee - grandos...   \n",
      "6       original dark chocolate goldenberry - pacari -...   \n",
      "7                   dove hair fall rescue shampoo, 340 ml   \n",
      "8                 anoushka gourmet moong dal halwa 285gms   \n",
      "9                                  tea - red label - 1 kg   \n",
      "10      finest american almond - healthy alternatives ...   \n",
      "11                                     sweet corn - 250 g   \n",
      "12                          choice fryms papad white 150g   \n",
      "13      espresso caffe in grani coffee beans - illy - ...   \n",
      "14      milk chocolate egg - monster collection - zain...   \n",
      "15      100% freeze - dried soluble coffee - gold - ne...   \n",
      "16             fruit & nuts chocolate - toblerone - 100 g   \n",
      "17           seahorse truffle chocolate - belgian - 135 g   \n",
      "18          energy drink - sugar free - red bull - 250 ml   \n",
      "19                            chaat masala - keya - 100 g   \n",
      "20           organic honey - under the mango tree - 200 g   \n",
      "21                           aamras - paper boat - 250 ml   \n",
      "22              beeta party pack - lotus, 100 nos x 1 ply   \n",
      "23                                     ceres litchi juice   \n",
      "24                               neo spicy gherkin 350 gm   \n",
      "25                     whole cranberries - rostaa - 200 g   \n",
      "26                         aampapad - home delite - 400 g   \n",
      "27      organic wheat maida - healthy alternatives - 5...   \n",
      "28      desi nature amla candy original - l'exclusif -...   \n",
      "29               lighter than light - hellmann's - 430 ml   \n",
      "...                                                   ...   \n",
      "575877      dark chocolate w/ 85% cocoa - belgian - 100 g   \n",
      "575878      starz classic strawberry candy - kandee - 1 n   \n",
      "575879  tariero artisan roastery rich hazelnut gourmet...   \n",
      "575880                                 lemon bhel 150 gm.   \n",
      "575881  sakleshpur arabica loose coffee beans - devi -...   \n",
      "575882   chocolate brownie protein bar - yoga bar - 720 g   \n",
      "575883        chocolate cashew biscuits - karachi - 400 g   \n",
      "575884         seville orange marmalade - mackays - 340 g   \n",
      "575885             happy foam handwash - protekt - 200 ml   \n",
      "575886                   swiss thins dark - lindt - 125 g   \n",
      "575887  turkish herb roasted chicken - nothing but chi...   \n",
      "575888  daily dal masala - sanjeev kapoors khazana - 50 g   \n",
      "575889         green tea w/ ginger -25 tb - dilmah - 50 g   \n",
      "575890        foxtail millets - 24 mantra organic - 500 g   \n",
      "575891             shortbread triangles - walkers - 150 g   \n",
      "575892                        heinz pear baby juice 750ml   \n",
      "575893                       coconut milk - kara - 200 ml   \n",
      "575894     cavinkare adidas victory league deo body spray   \n",
      "575895        turkey breast fillets - sant dalmai - 250 g   \n",
      "575896       chunky orange marmalade - l'exclusif - 330 g   \n",
      "575897            tulsi masala tea - organic india - 53 g   \n",
      "575898         chilli fish fingers - cambay tiger - 200 g   \n",
      "575899                eva sparkling cranberry juice 750ml   \n",
      "575900                 rin fabric whitener, 500 ml bottle   \n",
      "575901                    tide plus detergent powder 2 kg   \n",
      "575902  pink cocktail fruit mix - grape & raspberry - ...   \n",
      "575903  tortilla chips - tomato flavour - mission food...   \n",
      "575904  quadratini tiramisu cream wafer - loacker - 110 g   \n",
      "575905  brown flaxseed powder - healthy alternatives -...   \n",
      "575906       kelloggs oats - heart to heart, 500 gm pouch   \n",
      "\n",
      "                                                   labels  \\\n",
      "0                                     ['branded grocery']   \n",
      "1                                 ['snacks', 'beverages']   \n",
      "2                                     ['branded grocery']   \n",
      "3       ['home care', 'insect repellent', 'pest repell...   \n",
      "4                          ['breakfast cereals', 'dairy']   \n",
      "5                                 ['snacks', 'beverages']   \n",
      "6                              ['sweets & confectionery']   \n",
      "7                                ['cosmetics', 'make-up']   \n",
      "8                                        ['ready-to-eat']   \n",
      "9                                 ['snacks', 'beverages']   \n",
      "10                                ['snacks', 'beverages']   \n",
      "11                                ['fruits & vegetables']   \n",
      "12                         ['fryums', 'papad', 'appalam']   \n",
      "13                                ['snacks', 'beverages']   \n",
      "14                             ['sweets & confectionery']   \n",
      "15                                ['snacks', 'beverages']   \n",
      "16                             ['sweets & confectionery']   \n",
      "17                             ['sweets & confectionery']   \n",
      "18                                ['snacks', 'beverages']   \n",
      "19                                    ['branded grocery']   \n",
      "20                         ['breakfast cereals', 'dairy']   \n",
      "21                                ['snacks', 'beverages']   \n",
      "22      ['home care', 'insect repellent', 'pest repell...   \n",
      "23                                          ['beverages']   \n",
      "24                                    ['branded grocery']   \n",
      "25                                ['snacks', 'beverages']   \n",
      "26                                ['snacks', 'beverages']   \n",
      "27                                    ['branded grocery']   \n",
      "28                             ['sweets & confectionery']   \n",
      "29                         ['breakfast cereals', 'dairy']   \n",
      "...                                                   ...   \n",
      "575877                         ['sweets & confectionery']   \n",
      "575878                         ['sweets & confectionery']   \n",
      "575879                  ['coffee', 'tea', 'cocoa powder']   \n",
      "575880                   ['namkeen', 'mixture', 'snacks']   \n",
      "575881                            ['snacks', 'beverages']   \n",
      "575882                     ['breakfast cereals', 'dairy']   \n",
      "575883                            ['snacks', 'beverages']   \n",
      "575884                     ['breakfast cereals', 'dairy']   \n",
      "575885                                   ['instant food']   \n",
      "575886                         ['sweets & confectionery']   \n",
      "575887                                   ['instant food']   \n",
      "575888                                ['branded grocery']   \n",
      "575889                            ['snacks', 'beverages']   \n",
      "575890   ['healthcare', 'wellness', 'drugs', 'medicines']   \n",
      "575891                            ['snacks', 'beverages']   \n",
      "575892                             ['water', 'beverages']   \n",
      "575893                                ['branded grocery']   \n",
      "575894                                  ['personal care']   \n",
      "575895                         ['sweets & confectionery']   \n",
      "575896                     ['breakfast cereals', 'dairy']   \n",
      "575897                            ['snacks', 'beverages']   \n",
      "575898                         ['sweets & confectionery']   \n",
      "575899                             ['water', 'beverages']   \n",
      "575900  ['home care', 'insect repellent', 'pest repell...   \n",
      "575901                                      ['home care']   \n",
      "575902                            ['snacks', 'beverages']   \n",
      "575903                            ['snacks', 'beverages']   \n",
      "575904                            ['snacks', 'beverages']   \n",
      "575905   ['healthcare', 'wellness', 'drugs', 'medicines']   \n",
      "575906                                ['branded grocery']   \n",
      "\n",
      "                                         Predicted_Labels  \\\n",
      "0                                   (bakery, dried, nuts)   \n",
      "1                                     (beverages, snacks)   \n",
      "2                                      (branded, grocery)   \n",
      "3       (accessories, agents, care, cleaning, home, in...   \n",
      "4                                     (beverages, snacks)   \n",
      "5                                     (beverages, snacks)   \n",
      "6                                 (confectionery, sweets)   \n",
      "7       (care, conditioner, cosmetics, hair, makeup, p...   \n",
      "8       (chocolate, masala, readytocook, readytoeat, s...   \n",
      "9                                            (beverages,)   \n",
      "10                                    (beverages, snacks)   \n",
      "11                                                     ()   \n",
      "12                                        (food, instant)   \n",
      "13                                    (beverages, snacks)   \n",
      "14                                (confectionery, sweets)   \n",
      "15                                    (beverages, snacks)   \n",
      "16                                (confectionery, sweets)   \n",
      "17                                (confectionery, sweets)   \n",
      "18                             (beverages, snacks, water)   \n",
      "19                                     (branded, grocery)   \n",
      "20                            (breakfast, cereals, dairy)   \n",
      "21                                    (beverages, snacks)   \n",
      "22      (care, home, insect, pest, repellent, repellents)   \n",
      "23                             (beverages, snacks, water)   \n",
      "24                                    (beverages, snacks)   \n",
      "25                                    (beverages, snacks)   \n",
      "26                                    (beverages, snacks)   \n",
      "27                                     (branded, grocery)   \n",
      "28                                (confectionery, sweets)   \n",
      "29                            (breakfast, cereals, dairy)   \n",
      "...                                                   ...   \n",
      "575877                            (confectionery, sweets)   \n",
      "575878                 (chocolate, confectionery, sweets)   \n",
      "575879               (cocoa, coffee, powder, snacks, tea)   \n",
      "575880                                (beverages, snacks)   \n",
      "575881                                (beverages, snacks)   \n",
      "575882                        (breakfast, cereals, dairy)   \n",
      "575883                                (beverages, snacks)   \n",
      "575884                        (breakfast, cereals, dairy)   \n",
      "575885                    (care, food, instant, personal)   \n",
      "575886                            (confectionery, sweets)   \n",
      "575887                                    (food, instant)   \n",
      "575888                                 (branded, grocery)   \n",
      "575889                                (beverages, snacks)   \n",
      "575890  (branded, drugs, grocery, healthcare, medicine...   \n",
      "575891                                (beverages, snacks)   \n",
      "575892                                           (water,)   \n",
      "575893                                 (branded, grocery)   \n",
      "575894  (accessories, aid, antiprespirants, bars, bath...   \n",
      "575895     (confectionery, eggs, frozen, seafood, sweets)   \n",
      "575896                        (breakfast, cereals, dairy)   \n",
      "575897                                (beverages, snacks)   \n",
      "575898     (confectionery, eggs, frozen, seafood, sweets)   \n",
      "575899                         (beverages, snacks, water)   \n",
      "575900  (accessories, agents, care, cleaning, detergen...   \n",
      "575901  (care, detergent, fabric, home, insect, pest, ...   \n",
      "575902                         (beverages, snacks, water)   \n",
      "575903                                (beverages, snacks)   \n",
      "575904                                (beverages, snacks)   \n",
      "575905  (branded, drugs, grocery, healthcare, medicine...   \n",
      "575906                                         (staples,)   \n",
      "\n",
      "        Predicted_Probability  \n",
      "0                    0.661135  \n",
      "1                    0.999904  \n",
      "2                    1.000000  \n",
      "3                    1.000000  \n",
      "4                    0.998055  \n",
      "5                    1.000000  \n",
      "6                    0.999992  \n",
      "7                    1.000000  \n",
      "8                    0.989191  \n",
      "9                    0.901233  \n",
      "10                   0.992652  \n",
      "11                   0.433534  \n",
      "12                   0.573847  \n",
      "13                   1.000000  \n",
      "14                   1.000000  \n",
      "15                   1.000000  \n",
      "16                   0.999954  \n",
      "17                   1.000000  \n",
      "18                   0.999719  \n",
      "19                   0.997055  \n",
      "20                   0.994541  \n",
      "21                   0.999924  \n",
      "22                   0.999992  \n",
      "23                   0.999951  \n",
      "24                   0.982378  \n",
      "25                   0.980811  \n",
      "26                   0.999959  \n",
      "27                   0.999799  \n",
      "28                   0.993551  \n",
      "29                   0.995159  \n",
      "...                       ...  \n",
      "575877               1.000000  \n",
      "575878               1.000000  \n",
      "575879               0.989965  \n",
      "575880               0.792473  \n",
      "575881               1.000000  \n",
      "575882               0.999943  \n",
      "575883               0.995518  \n",
      "575884               1.000000  \n",
      "575885               0.999831  \n",
      "575886               1.000000  \n",
      "575887               0.938359  \n",
      "575888               0.999998  \n",
      "575889               1.000000  \n",
      "575890               0.999761  \n",
      "575891               0.999997  \n",
      "575892               0.598234  \n",
      "575893               0.904030  \n",
      "575894               1.000000  \n",
      "575895               1.000000  \n",
      "575896               0.998938  \n",
      "575897               0.942876  \n",
      "575898               0.999021  \n",
      "575899               0.988627  \n",
      "575900               0.999993  \n",
      "575901               0.999996  \n",
      "575902               0.999949  \n",
      "575903               1.000000  \n",
      "575904               1.000000  \n",
      "575905               0.996296  \n",
      "575906               0.746887  \n",
      "\n",
      "[575907 rows x 4 columns]>\n"
     ]
    }
   ],
   "source": [
    "Dataset_full_train=dataset\n",
    "Dataset_full_train['Predicted_Labels']=y_dataset_pred_inversed\n",
    "Dataset_full_train['Predicted_Probability']=probability_score\n",
    "#print(Dataset_full_train.head)"
   ]
  },
  {
   "cell_type": "code",
   "execution_count": 44,
   "metadata": {},
   "outputs": [
    {
     "data": {
      "text/plain": [
       "0.7303413567214142"
      ]
     },
     "execution_count": 44,
     "metadata": {},
     "output_type": "execute_result"
    }
   ],
   "source": [
    "f1_score(y,dataset_predicted_labels_mybag, average=\"micro\")"
   ]
  },
  {
   "cell_type": "markdown",
   "metadata": {},
   "source": [
    "#### Predict on the evaluation dataset"
   ]
  },
  {
   "cell_type": "code",
   "execution_count": 45,
   "metadata": {},
   "outputs": [
    {
     "name": "stdout",
     "output_type": "stream",
     "text": [
      "(143977, 1)\n",
      "<class 'numpy.ndarray'>\n"
     ]
    }
   ],
   "source": [
    "validation = pd.read_csv('evaluate_data.csv')\n",
    "print(validation.shape)\n",
    "\n",
    "x_val=validation['titles'].values\n",
    "print(type(x_val))"
   ]
  },
  {
   "cell_type": "markdown",
   "metadata": {},
   "source": [
    "#### Preprocess this dataset by carrying out same pre-process functions used on training dataset"
   ]
  },
  {
   "cell_type": "code",
   "execution_count": 46,
   "metadata": {},
   "outputs": [],
   "source": [
    "# X_val = [text_preprocess(x_val,' ') for x in x_val]\n",
    "X_val = [text_preprocess(x,' ') for x in x_val]"
   ]
  },
  {
   "cell_type": "code",
   "execution_count": 47,
   "metadata": {},
   "outputs": [],
   "source": [
    "x_val_mybag = vstack([csr_matrix(my_bag_of_words(text, WORDS_TO_INDEX, DICT_SIZE)) for text in X_val])"
   ]
  },
  {
   "cell_type": "code",
   "execution_count": 48,
   "metadata": {},
   "outputs": [],
   "source": [
    "y_val_predicted_labels_mybag = classifier.predict(x_val_mybag)"
   ]
  },
  {
   "cell_type": "code",
   "execution_count": 49,
   "metadata": {},
   "outputs": [
    {
     "data": {
      "text/plain": [
       "('confectionery', 'sweets')"
      ]
     },
     "execution_count": 49,
     "metadata": {},
     "output_type": "execute_result"
    }
   ],
   "source": [
    "y_val_predicted_labels_mybag[3]\n",
    "mlb.inverse_transform(y_val_predicted_labels_mybag)[3]"
   ]
  },
  {
   "cell_type": "code",
   "execution_count": 52,
   "metadata": {},
   "outputs": [
    {
     "name": "stdout",
     "output_type": "stream",
     "text": [
      "Title:\ttomato puree smart cook g\n",
      "Predicted labels:\tbranded,grocery\n",
      "\n",
      "\n",
      "Title:\tnutrichoice hi fiber digestive britannia g\n",
      "Predicted labels:\tbeverages,snacks\n",
      "\n",
      "\n",
      "Title:\tamul mithai mate gms\n",
      "Predicted labels:\tbakery,bread,chocolate,milk\n",
      "\n",
      "\n"
     ]
    }
   ],
   "source": [
    "y_val_pred_inversed = mlb.inverse_transform(y_val_predicted_labels_mybag)\n",
    "#print(y_val_pred_inversed)\n",
    "for i in range(3):\n",
    "    print('Title:\\t{}\\nPredicted labels:\\t{}\\n\\n'.format(\n",
    "        X_val[i],\n",
    "        ','.join(y_val_pred_inversed[i])\n",
    "    ))\n",
    "    "
   ]
  },
  {
   "cell_type": "code",
   "execution_count": 54,
   "metadata": {},
   "outputs": [],
   "source": [
    "y_val_predicted_labels_mybag_p = classifier.predict_proba(x_val_mybag)\n",
    "probability_score_test=y_val_predicted_labels_mybag_p.max(axis=1)"
   ]
  },
  {
   "cell_type": "markdown",
   "metadata": {},
   "source": [
    "#### Save evaluation dataset along with its predictions and probability scores"
   ]
  },
  {
   "cell_type": "code",
   "execution_count": 55,
   "metadata": {},
   "outputs": [],
   "source": [
    "evaluation_dataset_scoring=validation\n",
    "evaluation_dataset_scoring['Predicted_Labels']=y_val_pred_inversed\n",
    "evaluation_dataset_scoring['Predicted_Probability']=probability_score_test"
   ]
  },
  {
   "cell_type": "code",
   "execution_count": 56,
   "metadata": {},
   "outputs": [
    {
     "name": "stdout",
     "output_type": "stream",
     "text": [
      "<bound method NDFrame.head of                                                    titles  \\\n",
      "0                       tomato puree - smart cook - 200 g   \n",
      "1       nutrichoice hi fiber digestive - britannia - 2...   \n",
      "2                                 amul mithai mate 200gms   \n",
      "3       dark chocolate bar w/ caramelized orange rinds...   \n",
      "4                           garam masala - everest - 50 g   \n",
      "5              salted cocktail nuts - tong garden - 150 g   \n",
      "6              seville orange marmalade - mackays - 340 g   \n",
      "7                                   mamy poko pants s 42s   \n",
      "8              strawberry preserves - bonne maman - 370 g   \n",
      "9       cup a soup w/ croutons tomato & vegetable - ba...   \n",
      "10         triple grains - gluten free - zero - g - 500 g   \n",
      "11             bb royal organic - coriander powder, 200 g   \n",
      "12      body buddy protein ready to eat chocolate oran...   \n",
      "13             instant classical coffee - grandos - 100 g   \n",
      "14             top deck milk chococlate - cadbury - 220 g   \n",
      "15             pav bhaji masala - get natures best - 50 g   \n",
      "16                    natural mineral water - evian - 1 l   \n",
      "17                              keo karpin hair oil 200ml   \n",
      "18          tiger seer fish surmai - cambay tiger - 500 g   \n",
      "19                        tahini dressing - alfez - 200 g   \n",
      "20                      wonderland roasted almonds 200 gm   \n",
      "21                          monin noisette hazelnut 250ml   \n",
      "22                rozzana basmati rice - indiagate - 5 kg   \n",
      "23      wheat semolina - sprouted suji - conscious foo...   \n",
      "24            masoor black dal - get natures best - 500 g   \n",
      "25                             magic cubes - maggi - 40 g   \n",
      "26                       crunchy muesli - bagrry's - 1 kg   \n",
      "27               instant noodles - mushroom - koka - 70 g   \n",
      "28      generous box milk chocolate tablet - anthon be...   \n",
      "29                dark noir chocolate - delaviuda - 100 g   \n",
      "...                                                   ...   \n",
      "143947                 kurkure red chilli chatka 105.5 gm   \n",
      "143948             bore chilly - get natures best - 100 g   \n",
      "143949           peach and passion fruit - ocean - 500 ml   \n",
      "143950                 brown rice flour - zero - g - 1 kg   \n",
      "143951  soya nut - roasted garlic snack - healthy alte...   \n",
      "143952  loreal paris casting creme gloss - dark brown ...   \n",
      "143953                  bubbly chocolate - cadbury - 50 g   \n",
      "143954    apricot halves in fruit juice - epicure - 411 g   \n",
      "143955     organic mix dal - healthy alternatives - 500 g   \n",
      "143956                 salted mix - nuts - rostaa - 340 g   \n",
      "143957                       bitter gourd (karela) 250 gm   \n",
      "143958                               chicken capsicum 1kg   \n",
      "143959     click refill pack - cool surf blue - aer - 1 n   \n",
      "143960         soya chips - schezwan - l'exclusif - 200 g   \n",
      "143961                     orange juice - tropicana - 1 l   \n",
      "143962  roasted sunflower seeds - healthy alternatives...   \n",
      "143963  mothers recipe papad - punjabi masala, 200 gm ...   \n",
      "143964  strawberry pie filling/topping - mothers maid ...   \n",
      "143965                real activ apple juice - real - 1 l   \n",
      "143966      ragi loaf full - healthy alternatives - 550 g   \n",
      "143967  refill gel - musk after smoke - godrej aer - 9 ml   \n",
      "143968  eithiopia yirgacheffe loose coffee beans - dev...   \n",
      "143969       sparkling fruit juice - grape - may - 750 ml   \n",
      "143970                 pure olive oil - colavita - 750 ml   \n",
      "143971  microwave cheese popcorn - pack of 3 bags - am...   \n",
      "143972           refined sunflower oil lite - sunny - 5 l   \n",
      "143973                          chukde jeera sabut 100gms   \n",
      "143974  stayfree sanitary pads - dry-max all night ult...   \n",
      "143975     forest fruits travel sweets - simpkins - 200 g   \n",
      "143976              curry veg noodles - top ramen - 280 g   \n",
      "\n",
      "                                         Predicted_Labels  \\\n",
      "0                                      (branded, grocery)   \n",
      "1                                     (beverages, snacks)   \n",
      "2                        (bakery, bread, chocolate, milk)   \n",
      "3                                 (confectionery, sweets)   \n",
      "4                                      (branded, grocery)   \n",
      "5                                     (beverages, snacks)   \n",
      "6                             (breakfast, cereals, dairy)   \n",
      "7                                  (baby, care, personal)   \n",
      "8                             (breakfast, cereals, dairy)   \n",
      "9                                         (food, instant)   \n",
      "10                                     (branded, grocery)   \n",
      "11                            (branded, grocery, staples)   \n",
      "12                                                     ()   \n",
      "13                                    (beverages, snacks)   \n",
      "14                                (confectionery, sweets)   \n",
      "15                                     (branded, grocery)   \n",
      "16                                    (beverages, snacks)   \n",
      "17      (care, cosmetics, hair, makeup, personal, prod...   \n",
      "18         (confectionery, eggs, frozen, seafood, sweets)   \n",
      "19                            (breakfast, cereals, dairy)   \n",
      "20                                                     ()   \n",
      "21                                    (beverages, snacks)   \n",
      "22                            (branded, grocery, staples)   \n",
      "23                                     (branded, grocery)   \n",
      "24                                     (branded, grocery)   \n",
      "25                                     (branded, grocery)   \n",
      "26                            (breakfast, cereals, dairy)   \n",
      "27                                        (food, instant)   \n",
      "28                                (confectionery, sweets)   \n",
      "29                                (confectionery, sweets)   \n",
      "...                                                   ...   \n",
      "143947                                 (branded, grocery)   \n",
      "143948                                 (branded, grocery)   \n",
      "143949                         (beverages, snacks, water)   \n",
      "143950                                 (branded, grocery)   \n",
      "143951                                (beverages, snacks)   \n",
      "143952  (care, cosmetics, hair, makeup, personal, prod...   \n",
      "143953                            (confectionery, sweets)   \n",
      "143954                               (fruits, vegetables)   \n",
      "143955                                 (branded, grocery)   \n",
      "143956                                (beverages, snacks)   \n",
      "143957                               (fruits, vegetables)   \n",
      "143958                               (fruits, vegetables)   \n",
      "143959  (food, home, insect, instant, pest, repellent,...   \n",
      "143960                                (beverages, snacks)   \n",
      "143961                                (beverages, snacks)   \n",
      "143962                                (beverages, snacks)   \n",
      "143963                        (branded, grocery, staples)   \n",
      "143964                            (confectionery, sweets)   \n",
      "143965                                (beverages, snacks)   \n",
      "143966                        (breakfast, cereals, dairy)   \n",
      "143967  (accessories, care, food, home, insect, instan...   \n",
      "143968                                (beverages, snacks)   \n",
      "143969                         (beverages, snacks, water)   \n",
      "143970        (branded, desi, edible, ghee, grocery, oil)   \n",
      "143971                                (beverages, snacks)   \n",
      "143972                        (branded, grocery, staples)   \n",
      "143973  (biscuits, cookies, dried, masala, nuts, spice...   \n",
      "143974  (baby, care, cosmetics, home, makeup, needs, p...   \n",
      "143975                            (confectionery, sweets)   \n",
      "143976                                    (food, instant)   \n",
      "\n",
      "        Predicted_Probability  \n",
      "0                    0.999930  \n",
      "1                    0.999940  \n",
      "2                    0.998615  \n",
      "3                    1.000000  \n",
      "4                    0.999243  \n",
      "5                    0.999973  \n",
      "6                    1.000000  \n",
      "7                    1.000000  \n",
      "8                    1.000000  \n",
      "9                    1.000000  \n",
      "10                   0.999744  \n",
      "11                   0.999655  \n",
      "12                   0.072741  \n",
      "13                   0.999998  \n",
      "14                   1.000000  \n",
      "15                   1.000000  \n",
      "16                   0.999998  \n",
      "17                   0.999996  \n",
      "18                   0.999999  \n",
      "19                   0.999992  \n",
      "20                   0.460943  \n",
      "21                   0.990478  \n",
      "22                   1.000000  \n",
      "23                   1.000000  \n",
      "24                   1.000000  \n",
      "25                   0.949633  \n",
      "26                   0.999471  \n",
      "27                   0.999999  \n",
      "28                   1.000000  \n",
      "29                   1.000000  \n",
      "...                       ...  \n",
      "143947               0.987719  \n",
      "143948               1.000000  \n",
      "143949               0.999099  \n",
      "143950               0.999990  \n",
      "143951               0.998682  \n",
      "143952               1.000000  \n",
      "143953               0.999928  \n",
      "143954               0.999984  \n",
      "143955               0.995285  \n",
      "143956               0.995432  \n",
      "143957               0.999967  \n",
      "143958               0.858132  \n",
      "143959               1.000000  \n",
      "143960               0.995084  \n",
      "143961               0.999919  \n",
      "143962               0.997205  \n",
      "143963               0.961430  \n",
      "143964               1.000000  \n",
      "143965               0.999958  \n",
      "143966               0.891692  \n",
      "143967               1.000000  \n",
      "143968               1.000000  \n",
      "143969               0.999999  \n",
      "143970               0.999059  \n",
      "143971               0.999967  \n",
      "143972               0.999322  \n",
      "143973               0.999994  \n",
      "143974               1.000000  \n",
      "143975               0.999992  \n",
      "143976               1.000000  \n",
      "\n",
      "[143977 rows x 3 columns]>\n"
     ]
    }
   ],
   "source": [
    "print(evaluation_dataset_scoring.head)"
   ]
  }
 ],
 "metadata": {
  "kernelspec": {
   "display_name": "Python 3",
   "language": "python",
   "name": "python3"
  },
  "language_info": {
   "codemirror_mode": {
    "name": "ipython",
    "version": 3
   },
   "file_extension": ".py",
   "mimetype": "text/x-python",
   "name": "python",
   "nbconvert_exporter": "python",
   "pygments_lexer": "ipython3",
   "version": "3.6.5"
  }
 },
 "nbformat": 4,
 "nbformat_minor": 2
}
